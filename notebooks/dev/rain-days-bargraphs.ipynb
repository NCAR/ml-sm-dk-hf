{
 "cells": [
  {
   "cell_type": "markdown",
   "id": "b3f089db",
   "metadata": {},
   "source": [
    "# Find rain days in a specified region, given 8 upper atm variables and respective Gridmet data.\n",
    "\n",
    "This notebook calculates average rain on a 128x128 grid, it then averages the respective 8 upper atm variables. \n",
    "\n",
    "* this version loads netcdf files directly via xarray\n",
    "* \"Gridmet data\" can now be replaced with any model's output\n",
    "\n",
    "### TODO items\n",
    "\n",
    "* better graphs (i.e. include lat/lon scale)\n",
    "\n"
   ]
  },
  {
   "cell_type": "code",
   "execution_count": 1,
   "id": "1005fa5c",
   "metadata": {},
   "outputs": [],
   "source": [
    "from IPython import display\n",
    "import numpy as np\n",
    "\n",
    "#from skimage.metrics import structural_similarity as ssim\n",
    "import copy\n"
   ]
  },
  {
   "cell_type": "code",
   "execution_count": 2,
   "id": "a833938d",
   "metadata": {},
   "outputs": [],
   "source": [
    "# load netcdf files directly via xarray\n",
    "import xarray as xr\n",
    "import matplotlib.pyplot as plt\n",
    "import cartopy.crs as ccrs\n",
    "import cartopy"
   ]
  },
  {
   "cell_type": "markdown",
   "id": "7ffa4495",
   "metadata": {},
   "source": [
    "# Configuration"
   ]
  },
  {
   "cell_type": "code",
   "execution_count": 3,
   "id": "3dd57356",
   "metadata": {},
   "outputs": [],
   "source": [
    "# Ordering: nRow ordering: obs, raw, RegCM4, WRF, MPAS, CNN, SDSM, KDDM, MBCn, LOCA\n",
    "mpi_sigfiles=['/glade/work/mcginnis/DCA/data/gen/final/gridmet/hist/prec.hist.gridMET.obs.day.1980-2005.NAM-22i.SGP.x098.y36.nc',\n",
    "'/glade/work/mcginnis/DCA/data/gen/final/mpi/hist/prec.hist.MPI-ESM-LR.raw.day.1980-2005.NAM-22i.SGP.x098.y36.nc',\n",
    "'/glade/work/mcginnis/DCA/data/gen/final/mpi/rcp85/prec.rcp85.MPI-ESM-LR.raw.day.2075-2100.NAM-22i.SGP.x098.y36.nc',\n",
    "'/glade/work/mcginnis/DCA/data/gen/final/regcm4/hist/prec.hist.MPI-ESM-LR.RegCM4.day.1980-2005.NAM-22i.SGP.x098.y36.nc',\n",
    "'/glade/work/mcginnis/DCA/data/gen/final/regcm4/rcp85/prec.rcp85.MPI-ESM-LR.RegCM4.day.2075-2100.NAM-22i.SGP.x098.y36.nc',\n",
    "'/glade/work/mcginnis/DCA/data/gen/final/wrf/hist/prec.hist.MPI-ESM-LR.WRF.day.1980-2005.NAM-22i.SGP.x098.y36.nc',\n",
    "'/glade/work/mcginnis/DCA/data/gen/final/wrf/rcp85/prec.rcp85.MPI-ESM-LR.WRF.day.2075-2100.NAM-22i.SGP.x098.y36.nc',\n",
    "'/glade/work/mcginnis/DCA/data/gen/final/mpas/hist/prec.hist.MPI-ESM-LR.MPAS.day.1980-2005.NAM-22i.SGP.x098.y36.nc',\n",
    "'/glade/work/mcginnis/DCA/data/gen/final/mpas/rcp85/prec.rcp85.MPI-ESM-LR.MPAS.day.2075-2100.NAM-22i.SGP.x098.y36.nc',\n",
    "'/glade/work/mcginnis/DCA/data/gen/final/cnn/hist/prec.hist.MPI-ESM-LR.CNN.day.1980-2005.NAM-22i.SGP.x098.y36.nc',\n",
    "'/glade/work/mcginnis/DCA/data/gen/final/cnn/rcp85/prec.rcp85.MPI-ESM-LR.CNN.day.2075-2100.NAM-22i.SGP.x098.y36.nc',\n",
    "'/glade/work/mcginnis/DCA/data/gen/sdsm/hist/prec.hist.MPI-ESM-LR.SDSM.day.1976-2005.NAM-22i.SGP.x098.y36.nc',\n",
    "'/glade/work/mcginnis/DCA/data/gen/sdsm/rcp85/prec.rcp85.MPI-ESM-LR.SDSM.day.2070-2099.NAM-22i.SGP.x098.y36.nc',\n",
    "'/glade/work/mcginnis/DCA/data/gen/final/kddm/hist/prec.hist.MPI-ESM-LR.KDDM.day.1980-2005.NAM-22i.SGP.x098.y36.nc',\n",
    "'/glade/work/mcginnis/DCA/data/gen/final/kddm/rcp85/prec.rcp85.MPI-ESM-LR.KDDM.day.2075-2100.NAM-22i.SGP.x098.y36.nc',\n",
    "'/glade/work/mcginnis/DCA/data/gen/final/mbcn/hist/prec.hist.MPI-ESM-LR.MBCn.day.1980-2005.NAM-22i.SGP.x098.y36.nc',\n",
    "'/glade/work/mcginnis/DCA/data/gen/final/mbcn/rcp85/prec.rcp85.MPI-ESM-LR.MBCn.day.2075-2100.NAM-22i.SGP.x098.y36.nc',\n",
    "'/glade/work/mcginnis/DCA/data/gen/final/loca/hist/prec.hist.MPI-ESM-LR.LOCA.day.1980-2005.NAM-22i.SGP.x098.y36.nc',\n",
    "'/glade/work/mcginnis/DCA/data/gen/final/loca/rcp85/prec.rcp85.MPI-ESM-LR.LOCA.day.2075-2100.NAM-22i.SGP.x098.y36.nc']"
   ]
  },
  {
   "cell_type": "markdown",
   "id": "04608df0",
   "metadata": {},
   "source": [
    "# Compact Configuration"
   ]
  },
  {
   "cell_type": "code",
   "execution_count": 4,
   "id": "f77fce97",
   "metadata": {},
   "outputs": [],
   "source": [
    "sigdir = '/glade/work/mcginnis/DCA/data/gen/final'\n",
    "def model2absfilepath(mn, exp, x, y):\n",
    "    if mn == 'obs' or mn == 'gridMET':\n",
    "        mn = 'gridMET'\n",
    "        filename = 'prec.{}.gridMET.{}.day.1980-2005.NAM-22i.SGP.x0{}.y{}.nc'.format(exp, 'obs', x, y)\n",
    "    elif mn == 'raw' or mn == 'mpi':\n",
    "        mn = 'mpi'\n",
    "        if exp == 'hist':\n",
    "            filename = 'prec.{}.MPI-ESM-LR.{}.day.1980-2005.NAM-22i.SGP.x0{}.y{}.nc'.format(exp, 'raw', x, y)\n",
    "        elif exp == 'rcp85':\n",
    "            filename = 'prec.{}.MPI-ESM-LR.{}.day.2075-2100.NAM-22i.SGP.x0{}.y{}.nc'.format(exp, 'raw', x, y)\n",
    "        else: print(\"Unknown experiment!\")\n",
    "    elif mn == 'SDSM':  # starts at 1976\n",
    "        if exp == 'hist':\n",
    "            filename = 'prec.{}.MPI-ESM-LR.{}.day.1976-2005.NAM-22i.SGP.x0{}.y{}.nc'.format(exp, mn, x, y)\n",
    "        elif exp == 'rcp85':\n",
    "            filename = 'prec.{}.MPI-ESM-LR.{}.day.2070-2099.NAM-22i.SGP.x0{}.y{}.nc'.format(exp, mn, x, y)\n",
    "        else: print(\"Unknown experiment!\")\n",
    "\n",
    "    elif exp == 'hist':\n",
    "        filename = 'prec.{}.MPI-ESM-LR.{}.day.1980-2005.NAM-22i.SGP.x0{}.y{}.nc'.format(exp, mn, x, y)\n",
    "    elif exp == 'rcp85':\n",
    "        filename = 'prec.{}.MPI-ESM-LR.{}.day.2075-2100.NAM-22i.SGP.x0{}.y{}.nc'.format(exp, mn, x, y)\n",
    "    else: print(\"Unknown experiment!\")\n",
    "    return sigdir + '/' + mn.lower() + '/' + exp + '/' + filename\n",
    "    "
   ]
  },
  {
   "cell_type": "code",
   "execution_count": 5,
   "id": "5038863b",
   "metadata": {},
   "outputs": [
    {
     "data": {
      "text/plain": [
       "'/glade/work/mcginnis/DCA/data/gen/final/regcm4/rcp85/prec.rcp85.MPI-ESM-LR.RegCM4.day.2075-2100.NAM-22i.SGP.x098.y36.nc'"
      ]
     },
     "execution_count": 5,
     "metadata": {},
     "output_type": "execute_result"
    }
   ],
   "source": [
    "# test single file\n",
    "model2absfilepath('RegCM4', 'rcp85', 98, 36)"
   ]
  },
  {
   "cell_type": "code",
   "execution_count": 6,
   "id": "20c7b421",
   "metadata": {},
   "outputs": [
    {
     "data": {
      "text/plain": [
       "['/glade/work/mcginnis/DCA/data/gen/final/gridmet/hist/prec.hist.gridMET.obs.day.1980-2005.NAM-22i.SGP.x098.y36.nc',\n",
       " '/glade/work/mcginnis/DCA/data/gen/final/mpi/hist/prec.hist.MPI-ESM-LR.raw.day.1980-2005.NAM-22i.SGP.x098.y36.nc',\n",
       " '/glade/work/mcginnis/DCA/data/gen/final/regcm4/hist/prec.hist.MPI-ESM-LR.RegCM4.day.1980-2005.NAM-22i.SGP.x098.y36.nc',\n",
       " '/glade/work/mcginnis/DCA/data/gen/final/wrf/hist/prec.hist.MPI-ESM-LR.WRF.day.1980-2005.NAM-22i.SGP.x098.y36.nc',\n",
       " '/glade/work/mcginnis/DCA/data/gen/final/mpas/hist/prec.hist.MPI-ESM-LR.MPAS.day.1980-2005.NAM-22i.SGP.x098.y36.nc',\n",
       " '/glade/work/mcginnis/DCA/data/gen/final/cnn/hist/prec.hist.MPI-ESM-LR.CNN.day.1980-2005.NAM-22i.SGP.x098.y36.nc',\n",
       " '/glade/work/mcginnis/DCA/data/gen/final/sdsm/hist/prec.hist.MPI-ESM-LR.SDSM.day.1976-2005.NAM-22i.SGP.x098.y36.nc',\n",
       " '/glade/work/mcginnis/DCA/data/gen/final/kddm/hist/prec.hist.MPI-ESM-LR.KDDM.day.1980-2005.NAM-22i.SGP.x098.y36.nc',\n",
       " '/glade/work/mcginnis/DCA/data/gen/final/mbcn/hist/prec.hist.MPI-ESM-LR.MBCn.day.1980-2005.NAM-22i.SGP.x098.y36.nc',\n",
       " '/glade/work/mcginnis/DCA/data/gen/final/loca/hist/prec.hist.MPI-ESM-LR.LOCA.day.1980-2005.NAM-22i.SGP.x098.y36.nc']"
      ]
     },
     "execution_count": 6,
     "metadata": {},
     "output_type": "execute_result"
    }
   ],
   "source": [
    "# create list of abs filepaths\n",
    "[model2absfilepath(ff, 'hist', 98, 36) for ff in ['obs','raw','RegCM4','WRF','MPAS','CNN','SDSM','KDDM','MBCn','LOCA']]\n"
   ]
  },
  {
   "cell_type": "markdown",
   "id": "c9c05cf2",
   "metadata": {},
   "source": [
    "### Load model output data"
   ]
  },
  {
   "cell_type": "code",
   "execution_count": 7,
   "id": "b5ffef16",
   "metadata": {},
   "outputs": [],
   "source": [
    "##################\n",
    "## LOAD GRIDMET ##\n",
    "##################\n",
    "# 1980-1989\n",
    "istart = 365\n",
    "#ndays = 3653  # 1980-1989\n",
    "ndays = 13515 # 1980-2016 \n",
    "\n",
    "dv1 = xr.open_dataset('/glade/work/dkorytin/srgan_data/prec128_gridmetA_1979-2016.nc')['prec'][istart:istart+ndays]\n",
    "# dv2 = xr.open_dataset('/glade/work/dkorytin/srgan_data/tmax128_gridmetA_1979-2016.nc')['tmax'][istart:istart+ndays]\n",
    "# dv3 = xr.open_dataset('/glade/work/dkorytin/srgan_data/tmin128_gridmetA_1979-2016.nc')['tmin'][istart:istart+ndays]\n",
    "# dv4 = xr.open_dataset('/glade/work/dkorytin/srgan_data/uas128_gridmetA_1979-2016.nc')['uas'][istart:istart+ndays]\n",
    "# dv5 = xr.open_dataset('/glade/work/dkorytin/srgan_data/vas128_gridmetA_1979-2016.nc')['vas'][istart:istart+ndays]\n",
    "# dv6 = xr.open_dataset('/glade/work/dkorytin/srgan_data/huss128_gridmetA_1979-2016.nc')['huss'][istart:istart+ndays]\n",
    "# dv7 = xr.open_dataset('/glade/work/dkorytin/srgan_data/rsds128_gridmetA_1979-2016.nc')['rsds'][istart:istart+ndays]\n",
    "# dv8 = xr.open_dataset('/glade/work/dkorytin/srgan_data/miss128_gridmetB_1979-2016.nc')['miss'][istart:istart+ndays]\n",
    "\n",
    "\n"
   ]
  },
  {
   "cell_type": "markdown",
   "id": "34aed62f",
   "metadata": {},
   "source": [
    "### Load MPI UATM data"
   ]
  },
  {
   "cell_type": "code",
   "execution_count": 8,
   "id": "35b84df9",
   "metadata": {},
   "outputs": [],
   "source": [
    "###########################\n",
    "## LOAD ERAI data: daily ##\n",
    "###########################\n",
    "def load_uatm_erai():\n",
    "    global mdv1,mdv2,mdv3,mdv4,mdv5,mdv6,mdv7,mdv8,mnvars\n",
    "    \n",
    "    # load eraionmpi\n",
    "    #mndays = 11688      # 1979-2010\n",
    "    mstart = 365\n",
    "    mndays = 13515       # 1980-2016 \n",
    "    mnvars = 8*1\n",
    "    mdv1 = xr.open_dataset('/glade/scratch/dkorytin/erai-on-mpigrid/U850.ERAI.MPIGRID.1979-2018.nc')['U'][mstart:mstart+mndays*1]\n",
    "    mdv2 = xr.open_dataset('/glade/scratch/dkorytin/erai-on-mpigrid/V850.ERAI.MPIGRID.1979-2018.nc')['V'][mstart:mstart+mndays*1]\n",
    "    mdv3 = xr.open_dataset('/glade/scratch/dkorytin/erai-on-mpigrid/Q850.ERAI.MPIGRID.1979-2018.nc')['Q'][mstart:mstart+mndays*1]\n",
    "    mdv4 = xr.open_dataset('/glade/scratch/dkorytin/erai-on-mpigrid/T700.ERAI.MPIGRID.1979-2018.nc')['T'][mstart:mstart+mndays*1]\n",
    "    mdv5 = xr.open_dataset('/glade/scratch/dkorytin/erai-on-mpigrid/Z700.ERAI.MPIGRID.1979-2018.nc')['Z'][mstart:mstart+mndays*1]\n",
    "    mdv6 = xr.open_dataset('/glade/scratch/dkorytin/erai-on-mpigrid/Z500.ERAI.MPIGRID.1979-2018.nc')['Z'][mstart:mstart+mndays*1]\n",
    "    mdv7 = xr.open_dataset('/glade/scratch/dkorytin/erai-on-mpigrid/U250.ERAI.MPIGRID.1979-2018.nc')['U'][mstart:mstart+mndays*1]\n",
    "    mdv8 = xr.open_dataset('/glade/scratch/dkorytin/erai-on-mpigrid/V250.ERAI.MPIGRID.1979-2018.nc')['V'][mstart:mstart+mndays*1]\n",
    "\n",
    "    print(\"Days loaded\", len(mdv7))\n"
   ]
  },
  {
   "cell_type": "code",
   "execution_count": 9,
   "id": "f6a1da47",
   "metadata": {},
   "outputs": [],
   "source": [
    "###################\n",
    "## LOAD MPI      ##\n",
    "###################  \n",
    "def load_uatm_mpi_hist():\n",
    "    global mdv1,mdv2,mdv3,mdv4,mdv5,mdv6,mdv7,mdv8,mnvars\n",
    "    \n",
    "    mnvars = 8\n",
    "    \n",
    "    d='/glade/p/ral/risc/rmccrary/CMIP5_CORDEX/NAmerica/MPI-ESM-LR/native/historical/'\n",
    "\n",
    "    mdv1 = xr.open_dataset(d+'U_MPI-ESM-LR_historical_r1i1p1_NAmerica_p850_19500101-20051231_dayavg_mpigrid.nc')['U'].sel(time=slice('1976-01-01T00:00:00', '2006-01-01T00:00:00'), lat=slice(23,56), lon=slice(-113,-80))\n",
    "    mdv2 = xr.open_dataset(d+'V_MPI-ESM-LR_historical_r1i1p1_NAmerica_p850_19500101-20051231_dayavg_mpigrid.nc')['V'].sel(time=slice('1976-01-01T00:00:00', '2006-01-01T00:00:00'), lat=slice(23,56), lon=slice(-113,-80))\n",
    "    mdv3 = xr.open_dataset(d+'Q_MPI-ESM-LR_historical_r1i1p1_NAmerica_p850_19500101-20051231_dayavg_mpigrid.nc')['Q'].sel(time=slice('1976-01-01T00:00:00', '2006-01-01T00:00:00'), lat=slice(23,56), lon=slice(-113,-80))\n",
    "    mdv4 = xr.open_dataset(d+'T_MPI-ESM-LR_historical_r1i1p1_NAmerica_p700_19500101-20051231_dayavg_mpigrid.nc')['T'].sel(time=slice('1976-01-01T00:00:00', '2006-01-01T00:00:00'), lat=slice(23,56), lon=slice(-113,-80))\n",
    "    mdv5 = xr.open_dataset(d+'Z_MPI-ESM-LR_historical_r1i1p1_NAmerica_p700_19500101-20051231_dayavg_mpigrid.nc')['Z'].sel(time=slice('1976-01-01T00:00:00', '2006-01-01T00:00:00'), lat=slice(23,56), lon=slice(-113,-80))\n",
    "    mdv6 = xr.open_dataset(d+'Z_MPI-ESM-LR_historical_r1i1p1_NAmerica_p500_19500101-20051231_dayavg_mpigrid.nc')['Z'].sel(time=slice('1976-01-01T00:00:00', '2006-01-01T00:00:00'), lat=slice(23,56), lon=slice(-113,-80))\n",
    "    mdv7 = xr.open_dataset(d+'U_MPI-ESM-LR_historical_r1i1p1_NAmerica_p250_19500101-20051231_dayavg_mpigrid.nc')['U'].sel(time=slice('1976-01-01T00:00:00', '2006-01-01T00:00:00'), lat=slice(23,56), lon=slice(-113,-80))\n",
    "    mdv8 = xr.open_dataset(d+'V_MPI-ESM-LR_historical_r1i1p1_NAmerica_p250_19500101-20051231_dayavg_mpigrid.nc')['V'].sel(time=slice('1976-01-01T00:00:00', '2006-01-01T00:00:00'), lat=slice(23,56), lon=slice(-113,-80))\n",
    "\n",
    "def load_uatm_mpi_future():\n",
    "    global mdv1,mdv2,mdv3,mdv4,mdv5,mdv6,mdv7,mdv8,mnvars\n",
    "    \n",
    "    d='/glade/p/ral/risc/rmccrary/CMIP5_CORDEX/NAmerica/MPI-ESM-LR/native/rcp85/'\n",
    "\n",
    "    mnvars = 8\n",
    "    mdv1 = xr.open_dataset(d+'U_MPI-ESM-LR_rcp85_r1i1p1_NAmerica_p850_20060101-21001231_dayavg_mpigrid.nc')['U'].sel(time=slice('2006-01-01T00:00:00', '2101-01-01T00:00:00'), lat=slice(23,56), lon=slice(-113,-80))\n",
    "    mdv2 = xr.open_dataset(d+'V_MPI-ESM-LR_rcp85_r1i1p1_NAmerica_p850_20060101-21001231_dayavg_mpigrid.nc')['V'].sel(time=slice('2006-01-01T00:00:00', '2101-01-01T00:00:00'), lat=slice(23,56), lon=slice(-113,-80))\n",
    "    mdv3 = xr.open_dataset(d+'Q_MPI-ESM-LR_rcp85_r1i1p1_NAmerica_p850_20060101-21001231_dayavg_mpigrid.nc')['Q'].sel(time=slice('2006-01-01T00:00:00', '2101-01-01T00:00:00'), lat=slice(23,56), lon=slice(-113,-80))\n",
    "    mdv4 = xr.open_dataset(d+'T_MPI-ESM-LR_rcp85_r1i1p1_NAmerica_p700_20060101-21001231_dayavg_mpigrid.nc')['T'].sel(time=slice('2006-01-01T00:00:00', '2101-01-01T00:00:00'), lat=slice(23,56), lon=slice(-113,-80))\n",
    "    mdv5 = xr.open_dataset(d+'Z_MPI-ESM-LR_rcp85_r1i1p1_NAmerica_p700_20060101-21001231_dayavg_mpigrid.nc')['Z'].sel(time=slice('2006-01-01T00:00:00', '2101-01-01T00:00:00'), lat=slice(23,56), lon=slice(-113,-80))\n",
    "    mdv6 = xr.open_dataset(d+'Z_MPI-ESM-LR_rcp85_r1i1p1_NAmerica_p500_20060101-21001231_dayavg_mpigrid.nc')['Z'].sel(time=slice('2006-01-01T00:00:00', '2101-01-01T00:00:00'), lat=slice(23,56), lon=slice(-113,-80))\n",
    "    mdv7 = xr.open_dataset(d+'U_MPI-ESM-LR_rcp85_r1i1p1_NAmerica_p250_20060101-21001231_dayavg_mpigrid.nc')['U'].sel(time=slice('2006-01-01T00:00:00', '2101-01-01T00:00:00'), lat=slice(23,56), lon=slice(-113,-80))\n",
    "    mdv8 = xr.open_dataset(d+'V_MPI-ESM-LR_rcp85_r1i1p1_NAmerica_p250_20060101-21001231_dayavg_mpigrid.nc')['V'].sel(time=slice('2006-01-01T00:00:00', '2101-01-01T00:00:00'), lat=slice(23,56), lon=slice(-113,-80))\n",
    "\n",
    "#load_uatm_mpi_future()\n"
   ]
  },
  {
   "cell_type": "markdown",
   "id": "5496bc22",
   "metadata": {},
   "source": [
    "# Averaging code"
   ]
  },
  {
   "cell_type": "code",
   "execution_count": 157,
   "id": "a8f8e7a1",
   "metadata": {},
   "outputs": [],
   "source": [
    "###################\n",
    "## UATM averages ##\n",
    "###################\n",
    "\n",
    "def calc_uatm_average(mpr_min, mpr_max, rainsignal, ymin, ymax):\n",
    "    # global inputs: dv[1-8], mdv[1-8], mnvars\n",
    "    mnvars = 8\n",
    "    \n",
    "    # initialize accumulators\n",
    "    indices = []\n",
    "    distribution = []\n",
    "    raw_ires = len(mdv1[0])\n",
    "    raininput = np.zeros((mnvars, raw_ires, raw_ires))\n",
    "    raincount = 0\n",
    "    \n",
    "    for ii in range(0,len(rainsignal)):\n",
    "        mpr = rainsignal[ii]\n",
    "            \n",
    "        # May = 5\n",
    "        if mpr[\"time.month\"] == 5 and mpr[\"time.year\"] >= ymin and mpr[\"time.year\"] <= ymax:    \n",
    "\n",
    "\n",
    "\n",
    "            if mpr >= mpr_min and mpr < mpr_max:\n",
    "                distribution.append(mpr)\n",
    "                indices.append(ii)\n",
    "\n",
    "                #mpr = dv1[ii].sel(lat=slice(32.125,38.125), lon=slice(-101.875,-93.875)).mean()\n",
    "\n",
    "                # find matching input sample \n",
    "                #ot= dv1[ii-1]['time']\n",
    "                ot = str(np.array(mpr['time']))\n",
    "\n",
    "                mdv1.sel(time=ot,method='nearest')\n",
    "                isample = [mdv1.sel(time=ot,method='nearest'),mdv2.sel(time=ot,method='nearest'),mdv3.sel(time=ot,method='nearest'),mdv4.sel(time=ot,method='nearest'),mdv5.sel(time=ot,method='nearest'),mdv6.sel(time=ot,method='nearest'),mdv7.sel(time=ot,method='nearest'),mdv8.sel(time=ot,method='nearest')]\n",
    "                #ot= dv1[ii]['time']\n",
    "                #assert ot[\"time.day\"]==isample[0]['time.day'], \"Days are not equal\"\n",
    "                isample = np.array(isample)\n",
    "\n",
    "                raininput += isample\n",
    "                raincount += 1\n",
    "            \n",
    "    raininput /= raincount\n",
    "    #print(\"days:\", raincount)\n",
    "    \n",
    "    return raininput, raincount, distribution, indices\n",
    "    "
   ]
  },
  {
   "cell_type": "markdown",
   "id": "53307e91",
   "metadata": {},
   "source": [
    "# Run over all models"
   ]
  },
  {
   "cell_type": "code",
   "execution_count": 158,
   "id": "c28f1b0f",
   "metadata": {
    "scrolled": false
   },
   "outputs": [],
   "source": [
    "sigfiles = mpi_sigfiles # see configuration cell at beginning of notebook"
   ]
  },
  {
   "cell_type": "code",
   "execution_count": 179,
   "id": "b8819ebe",
   "metadata": {},
   "outputs": [],
   "source": [
    "# Count number of dry/moist/wet days for both hist and future\n",
    "\n",
    "# list of models\n",
    "#sigfiles_hist = [model2absfilepath(ff, 'hist', 98, 36) for ff in ['obs','raw','RegCM4','WRF','MPAS','CNN','SDSM','KDDM','MBCn','LOCA']]\n",
    "sigfiles_hist = [model2absfilepath(ff, 'hist', 98, 36) for ff in ['raw','RegCM4','WRF','CNN','SDSM','KDDM','MBCn','LOCA']]\n",
    "sigfiles_rcp85 = [model2absfilepath(ff, 'rcp85', 98, 36) for ff in ['raw','RegCM4','WRF','CNN','SDSM','KDDM','MBCn','LOCA']]\n",
    "\n",
    "\n",
    "hist_counts = []\n",
    "rcp85_counts = []\n",
    "for ii in range(len(sigfiles_hist)):\n",
    "    sigfn1 = sigfiles_hist[ii]\n",
    "    sigfn2 = sigfiles_rcp85[ii]\n",
    "    \n",
    "    rainsignal1 = xr.open_dataset(sigfn1)['prec']\n",
    "    rainsignal2 = xr.open_dataset(sigfn2)['prec']\n",
    "\n",
    "    for mpr_min, mpr_max in [(0,0.254), (0.254, 3.0), (3.0, 9999.0), (0, 9999.0)]:\n",
    "        load_uatm_mpi_hist()\n",
    "        avginput1, count1, distribution1, indices1 = calc_uatm_average(mpr_min, mpr_max, rainsignal1, 1980, 2005) \n",
    "        hist_counts.append(count1)\n",
    "        \n",
    "        load_uatm_mpi_future()\n",
    "        avginput2, count2, distribution2, indices2 = calc_uatm_average(mpr_min, mpr_max, rainsignal2, 2075, 2100) \n",
    "        rcp85_counts.append(count2)\n",
    "    "
   ]
  },
  {
   "cell_type": "code",
   "execution_count": 180,
   "id": "39002146",
   "metadata": {},
   "outputs": [
    {
     "data": {
      "text/html": [
       "<div><svg style=\"position: absolute; width: 0; height: 0; overflow: hidden\">\n",
       "<defs>\n",
       "<symbol id=\"icon-database\" viewBox=\"0 0 32 32\">\n",
       "<path d=\"M16 0c-8.837 0-16 2.239-16 5v4c0 2.761 7.163 5 16 5s16-2.239 16-5v-4c0-2.761-7.163-5-16-5z\"></path>\n",
       "<path d=\"M16 17c-8.837 0-16-2.239-16-5v6c0 2.761 7.163 5 16 5s16-2.239 16-5v-6c0 2.761-7.163 5-16 5z\"></path>\n",
       "<path d=\"M16 26c-8.837 0-16-2.239-16-5v6c0 2.761 7.163 5 16 5s16-2.239 16-5v-6c0 2.761-7.163 5-16 5z\"></path>\n",
       "</symbol>\n",
       "<symbol id=\"icon-file-text2\" viewBox=\"0 0 32 32\">\n",
       "<path d=\"M28.681 7.159c-0.694-0.947-1.662-2.053-2.724-3.116s-2.169-2.030-3.116-2.724c-1.612-1.182-2.393-1.319-2.841-1.319h-15.5c-1.378 0-2.5 1.121-2.5 2.5v27c0 1.378 1.122 2.5 2.5 2.5h23c1.378 0 2.5-1.122 2.5-2.5v-19.5c0-0.448-0.137-1.23-1.319-2.841zM24.543 5.457c0.959 0.959 1.712 1.825 2.268 2.543h-4.811v-4.811c0.718 0.556 1.584 1.309 2.543 2.268zM28 29.5c0 0.271-0.229 0.5-0.5 0.5h-23c-0.271 0-0.5-0.229-0.5-0.5v-27c0-0.271 0.229-0.5 0.5-0.5 0 0 15.499-0 15.5 0v7c0 0.552 0.448 1 1 1h7v19.5z\"></path>\n",
       "<path d=\"M23 26h-14c-0.552 0-1-0.448-1-1s0.448-1 1-1h14c0.552 0 1 0.448 1 1s-0.448 1-1 1z\"></path>\n",
       "<path d=\"M23 22h-14c-0.552 0-1-0.448-1-1s0.448-1 1-1h14c0.552 0 1 0.448 1 1s-0.448 1-1 1z\"></path>\n",
       "<path d=\"M23 18h-14c-0.552 0-1-0.448-1-1s0.448-1 1-1h14c0.552 0 1 0.448 1 1s-0.448 1-1 1z\"></path>\n",
       "</symbol>\n",
       "</defs>\n",
       "</svg>\n",
       "<style>/* CSS stylesheet for displaying xarray objects in jupyterlab.\n",
       " *\n",
       " */\n",
       "\n",
       ":root {\n",
       "  --xr-font-color0: var(--jp-content-font-color0, rgba(0, 0, 0, 1));\n",
       "  --xr-font-color2: var(--jp-content-font-color2, rgba(0, 0, 0, 0.54));\n",
       "  --xr-font-color3: var(--jp-content-font-color3, rgba(0, 0, 0, 0.38));\n",
       "  --xr-border-color: var(--jp-border-color2, #e0e0e0);\n",
       "  --xr-disabled-color: var(--jp-layout-color3, #bdbdbd);\n",
       "  --xr-background-color: var(--jp-layout-color0, white);\n",
       "  --xr-background-color-row-even: var(--jp-layout-color1, white);\n",
       "  --xr-background-color-row-odd: var(--jp-layout-color2, #eeeeee);\n",
       "}\n",
       "\n",
       "html[theme=dark],\n",
       "body.vscode-dark {\n",
       "  --xr-font-color0: rgba(255, 255, 255, 1);\n",
       "  --xr-font-color2: rgba(255, 255, 255, 0.54);\n",
       "  --xr-font-color3: rgba(255, 255, 255, 0.38);\n",
       "  --xr-border-color: #1F1F1F;\n",
       "  --xr-disabled-color: #515151;\n",
       "  --xr-background-color: #111111;\n",
       "  --xr-background-color-row-even: #111111;\n",
       "  --xr-background-color-row-odd: #313131;\n",
       "}\n",
       "\n",
       ".xr-wrap {\n",
       "  display: block;\n",
       "  min-width: 300px;\n",
       "  max-width: 700px;\n",
       "}\n",
       "\n",
       ".xr-text-repr-fallback {\n",
       "  /* fallback to plain text repr when CSS is not injected (untrusted notebook) */\n",
       "  display: none;\n",
       "}\n",
       "\n",
       ".xr-header {\n",
       "  padding-top: 6px;\n",
       "  padding-bottom: 6px;\n",
       "  margin-bottom: 4px;\n",
       "  border-bottom: solid 1px var(--xr-border-color);\n",
       "}\n",
       "\n",
       ".xr-header > div,\n",
       ".xr-header > ul {\n",
       "  display: inline;\n",
       "  margin-top: 0;\n",
       "  margin-bottom: 0;\n",
       "}\n",
       "\n",
       ".xr-obj-type,\n",
       ".xr-array-name {\n",
       "  margin-left: 2px;\n",
       "  margin-right: 10px;\n",
       "}\n",
       "\n",
       ".xr-obj-type {\n",
       "  color: var(--xr-font-color2);\n",
       "}\n",
       "\n",
       ".xr-sections {\n",
       "  padding-left: 0 !important;\n",
       "  display: grid;\n",
       "  grid-template-columns: 150px auto auto 1fr 20px 20px;\n",
       "}\n",
       "\n",
       ".xr-section-item {\n",
       "  display: contents;\n",
       "}\n",
       "\n",
       ".xr-section-item input {\n",
       "  display: none;\n",
       "}\n",
       "\n",
       ".xr-section-item input + label {\n",
       "  color: var(--xr-disabled-color);\n",
       "}\n",
       "\n",
       ".xr-section-item input:enabled + label {\n",
       "  cursor: pointer;\n",
       "  color: var(--xr-font-color2);\n",
       "}\n",
       "\n",
       ".xr-section-item input:enabled + label:hover {\n",
       "  color: var(--xr-font-color0);\n",
       "}\n",
       "\n",
       ".xr-section-summary {\n",
       "  grid-column: 1;\n",
       "  color: var(--xr-font-color2);\n",
       "  font-weight: 500;\n",
       "}\n",
       "\n",
       ".xr-section-summary > span {\n",
       "  display: inline-block;\n",
       "  padding-left: 0.5em;\n",
       "}\n",
       "\n",
       ".xr-section-summary-in:disabled + label {\n",
       "  color: var(--xr-font-color2);\n",
       "}\n",
       "\n",
       ".xr-section-summary-in + label:before {\n",
       "  display: inline-block;\n",
       "  content: '►';\n",
       "  font-size: 11px;\n",
       "  width: 15px;\n",
       "  text-align: center;\n",
       "}\n",
       "\n",
       ".xr-section-summary-in:disabled + label:before {\n",
       "  color: var(--xr-disabled-color);\n",
       "}\n",
       "\n",
       ".xr-section-summary-in:checked + label:before {\n",
       "  content: '▼';\n",
       "}\n",
       "\n",
       ".xr-section-summary-in:checked + label > span {\n",
       "  display: none;\n",
       "}\n",
       "\n",
       ".xr-section-summary,\n",
       ".xr-section-inline-details {\n",
       "  padding-top: 4px;\n",
       "  padding-bottom: 4px;\n",
       "}\n",
       "\n",
       ".xr-section-inline-details {\n",
       "  grid-column: 2 / -1;\n",
       "}\n",
       "\n",
       ".xr-section-details {\n",
       "  display: none;\n",
       "  grid-column: 1 / -1;\n",
       "  margin-bottom: 5px;\n",
       "}\n",
       "\n",
       ".xr-section-summary-in:checked ~ .xr-section-details {\n",
       "  display: contents;\n",
       "}\n",
       "\n",
       ".xr-array-wrap {\n",
       "  grid-column: 1 / -1;\n",
       "  display: grid;\n",
       "  grid-template-columns: 20px auto;\n",
       "}\n",
       "\n",
       ".xr-array-wrap > label {\n",
       "  grid-column: 1;\n",
       "  vertical-align: top;\n",
       "}\n",
       "\n",
       ".xr-preview {\n",
       "  color: var(--xr-font-color3);\n",
       "}\n",
       "\n",
       ".xr-array-preview,\n",
       ".xr-array-data {\n",
       "  padding: 0 5px !important;\n",
       "  grid-column: 2;\n",
       "}\n",
       "\n",
       ".xr-array-data,\n",
       ".xr-array-in:checked ~ .xr-array-preview {\n",
       "  display: none;\n",
       "}\n",
       "\n",
       ".xr-array-in:checked ~ .xr-array-data,\n",
       ".xr-array-preview {\n",
       "  display: inline-block;\n",
       "}\n",
       "\n",
       ".xr-dim-list {\n",
       "  display: inline-block !important;\n",
       "  list-style: none;\n",
       "  padding: 0 !important;\n",
       "  margin: 0;\n",
       "}\n",
       "\n",
       ".xr-dim-list li {\n",
       "  display: inline-block;\n",
       "  padding: 0;\n",
       "  margin: 0;\n",
       "}\n",
       "\n",
       ".xr-dim-list:before {\n",
       "  content: '(';\n",
       "}\n",
       "\n",
       ".xr-dim-list:after {\n",
       "  content: ')';\n",
       "}\n",
       "\n",
       ".xr-dim-list li:not(:last-child):after {\n",
       "  content: ',';\n",
       "  padding-right: 5px;\n",
       "}\n",
       "\n",
       ".xr-has-index {\n",
       "  font-weight: bold;\n",
       "}\n",
       "\n",
       ".xr-var-list,\n",
       ".xr-var-item {\n",
       "  display: contents;\n",
       "}\n",
       "\n",
       ".xr-var-item > div,\n",
       ".xr-var-item label,\n",
       ".xr-var-item > .xr-var-name span {\n",
       "  background-color: var(--xr-background-color-row-even);\n",
       "  margin-bottom: 0;\n",
       "}\n",
       "\n",
       ".xr-var-item > .xr-var-name:hover span {\n",
       "  padding-right: 5px;\n",
       "}\n",
       "\n",
       ".xr-var-list > li:nth-child(odd) > div,\n",
       ".xr-var-list > li:nth-child(odd) > label,\n",
       ".xr-var-list > li:nth-child(odd) > .xr-var-name span {\n",
       "  background-color: var(--xr-background-color-row-odd);\n",
       "}\n",
       "\n",
       ".xr-var-name {\n",
       "  grid-column: 1;\n",
       "}\n",
       "\n",
       ".xr-var-dims {\n",
       "  grid-column: 2;\n",
       "}\n",
       "\n",
       ".xr-var-dtype {\n",
       "  grid-column: 3;\n",
       "  text-align: right;\n",
       "  color: var(--xr-font-color2);\n",
       "}\n",
       "\n",
       ".xr-var-preview {\n",
       "  grid-column: 4;\n",
       "}\n",
       "\n",
       ".xr-var-name,\n",
       ".xr-var-dims,\n",
       ".xr-var-dtype,\n",
       ".xr-preview,\n",
       ".xr-attrs dt {\n",
       "  white-space: nowrap;\n",
       "  overflow: hidden;\n",
       "  text-overflow: ellipsis;\n",
       "  padding-right: 10px;\n",
       "}\n",
       "\n",
       ".xr-var-name:hover,\n",
       ".xr-var-dims:hover,\n",
       ".xr-var-dtype:hover,\n",
       ".xr-attrs dt:hover {\n",
       "  overflow: visible;\n",
       "  width: auto;\n",
       "  z-index: 1;\n",
       "}\n",
       "\n",
       ".xr-var-attrs,\n",
       ".xr-var-data {\n",
       "  display: none;\n",
       "  background-color: var(--xr-background-color) !important;\n",
       "  padding-bottom: 5px !important;\n",
       "}\n",
       "\n",
       ".xr-var-attrs-in:checked ~ .xr-var-attrs,\n",
       ".xr-var-data-in:checked ~ .xr-var-data {\n",
       "  display: block;\n",
       "}\n",
       "\n",
       ".xr-var-data > table {\n",
       "  float: right;\n",
       "}\n",
       "\n",
       ".xr-var-name span,\n",
       ".xr-var-data,\n",
       ".xr-attrs {\n",
       "  padding-left: 25px !important;\n",
       "}\n",
       "\n",
       ".xr-attrs,\n",
       ".xr-var-attrs,\n",
       ".xr-var-data {\n",
       "  grid-column: 1 / -1;\n",
       "}\n",
       "\n",
       "dl.xr-attrs {\n",
       "  padding: 0;\n",
       "  margin: 0;\n",
       "  display: grid;\n",
       "  grid-template-columns: 125px auto;\n",
       "}\n",
       "\n",
       ".xr-attrs dt,\n",
       ".xr-attrs dd {\n",
       "  padding: 0;\n",
       "  margin: 0;\n",
       "  float: left;\n",
       "  padding-right: 10px;\n",
       "  width: auto;\n",
       "}\n",
       "\n",
       ".xr-attrs dt {\n",
       "  font-weight: normal;\n",
       "  grid-column: 1;\n",
       "}\n",
       "\n",
       ".xr-attrs dt:hover span {\n",
       "  display: inline-block;\n",
       "  background: var(--xr-background-color);\n",
       "  padding-right: 10px;\n",
       "}\n",
       "\n",
       ".xr-attrs dd {\n",
       "  grid-column: 2;\n",
       "  white-space: pre-wrap;\n",
       "  word-break: break-all;\n",
       "}\n",
       "\n",
       ".xr-icon-database,\n",
       ".xr-icon-file-text2 {\n",
       "  display: inline-block;\n",
       "  vertical-align: middle;\n",
       "  width: 1em;\n",
       "  height: 1.5em !important;\n",
       "  stroke-width: 0;\n",
       "  stroke: currentColor;\n",
       "  fill: currentColor;\n",
       "}\n",
       "</style><pre class='xr-text-repr-fallback'>&lt;xarray.DataArray &#x27;prec&#x27; (time: 10957, lat: 1, lon: 1)&gt;\n",
       "array([[[ 2.05049 ]],\n",
       "\n",
       "       [[14.360595]],\n",
       "\n",
       "       ...,\n",
       "\n",
       "       [[ 0.437015]],\n",
       "\n",
       "       [[ 0.      ]]], dtype=float32)\n",
       "Coordinates:\n",
       "  * time     (time) datetime64[ns] 2070-01-01T12:00:00 ... 2099-12-31T12:00:00\n",
       "  * lat      (lat) float64 36.37\n",
       "  * lon      (lon) float64 -97.5\n",
       "Attributes:\n",
       "    units:      mm/day\n",
       "    long_name:  Precipitation</pre><div class='xr-wrap' hidden><div class='xr-header'><div class='xr-obj-type'>xarray.DataArray</div><div class='xr-array-name'>'prec'</div><ul class='xr-dim-list'><li><span class='xr-has-index'>time</span>: 10957</li><li><span class='xr-has-index'>lat</span>: 1</li><li><span class='xr-has-index'>lon</span>: 1</li></ul></div><ul class='xr-sections'><li class='xr-section-item'><div class='xr-array-wrap'><input id='section-91dcbec3-159b-4022-aac7-0982b9c42482' class='xr-array-in' type='checkbox' checked><label for='section-91dcbec3-159b-4022-aac7-0982b9c42482' title='Show/hide data repr'><svg class='icon xr-icon-database'><use xlink:href='#icon-database'></use></svg></label><div class='xr-array-preview xr-preview'><span>2.05 14.36 0.0002806 0.0 0.06804 0.0 ... 1.838 0.0 0.0 2.489 0.437 0.0</span></div><div class='xr-array-data'><pre>array([[[ 2.05049 ]],\n",
       "\n",
       "       [[14.360595]],\n",
       "\n",
       "       ...,\n",
       "\n",
       "       [[ 0.437015]],\n",
       "\n",
       "       [[ 0.      ]]], dtype=float32)</pre></div></div></li><li class='xr-section-item'><input id='section-c7b8a94f-5980-4e30-b7aa-eeeffb97a47a' class='xr-section-summary-in' type='checkbox'  checked><label for='section-c7b8a94f-5980-4e30-b7aa-eeeffb97a47a' class='xr-section-summary' >Coordinates: <span>(3)</span></label><div class='xr-section-inline-details'></div><div class='xr-section-details'><ul class='xr-var-list'><li class='xr-var-item'><div class='xr-var-name'><span class='xr-has-index'>time</span></div><div class='xr-var-dims'>(time)</div><div class='xr-var-dtype'>datetime64[ns]</div><div class='xr-var-preview xr-preview'>2070-01-01T12:00:00 ... 2099-12-...</div><input id='attrs-90e92263-5e59-4a9d-951d-fe2c0350ccf1' class='xr-var-attrs-in' type='checkbox' ><label for='attrs-90e92263-5e59-4a9d-951d-fe2c0350ccf1' title='Show/Hide attributes'><svg class='icon xr-icon-file-text2'><use xlink:href='#icon-file-text2'></use></svg></label><input id='data-cac68068-04ad-4e6f-82e1-64f73947e89a' class='xr-var-data-in' type='checkbox'><label for='data-cac68068-04ad-4e6f-82e1-64f73947e89a' title='Show/Hide data repr'><svg class='icon xr-icon-database'><use xlink:href='#icon-database'></use></svg></label><div class='xr-var-attrs'><dl class='xr-attrs'><dt><span>bounds :</span></dt><dd>time_bnds</dd><dt><span>axis :</span></dt><dd>T</dd><dt><span>long_name :</span></dt><dd>time</dd><dt><span>standard_name :</span></dt><dd>time</dd></dl></div><div class='xr-var-data'><pre>array([&#x27;2070-01-01T12:00:00.000000000&#x27;, &#x27;2070-01-02T12:00:00.000000000&#x27;,\n",
       "       &#x27;2070-01-03T12:00:00.000000000&#x27;, ..., &#x27;2099-12-29T12:00:00.000000000&#x27;,\n",
       "       &#x27;2099-12-30T12:00:00.000000000&#x27;, &#x27;2099-12-31T12:00:00.000000000&#x27;],\n",
       "      dtype=&#x27;datetime64[ns]&#x27;)</pre></div></li><li class='xr-var-item'><div class='xr-var-name'><span class='xr-has-index'>lat</span></div><div class='xr-var-dims'>(lat)</div><div class='xr-var-dtype'>float64</div><div class='xr-var-preview xr-preview'>36.37</div><input id='attrs-43302755-f58f-4bcf-843d-2561e0a41f36' class='xr-var-attrs-in' type='checkbox' ><label for='attrs-43302755-f58f-4bcf-843d-2561e0a41f36' title='Show/Hide attributes'><svg class='icon xr-icon-file-text2'><use xlink:href='#icon-file-text2'></use></svg></label><input id='data-86290bde-9f75-40d6-8ca0-b637c2e2eea0' class='xr-var-data-in' type='checkbox'><label for='data-86290bde-9f75-40d6-8ca0-b637c2e2eea0' title='Show/Hide data repr'><svg class='icon xr-icon-database'><use xlink:href='#icon-database'></use></svg></label><div class='xr-var-attrs'><dl class='xr-attrs'><dt><span>bounds :</span></dt><dd>lat_bnds</dd><dt><span>units :</span></dt><dd>degrees_north</dd><dt><span>axis :</span></dt><dd>Y</dd><dt><span>long_name :</span></dt><dd>latitude</dd><dt><span>standard_name :</span></dt><dd>latitude</dd></dl></div><div class='xr-var-data'><pre>array([36.37249])</pre></div></li><li class='xr-var-item'><div class='xr-var-name'><span class='xr-has-index'>lon</span></div><div class='xr-var-dims'>(lon)</div><div class='xr-var-dtype'>float64</div><div class='xr-var-preview xr-preview'>-97.5</div><input id='attrs-30adcb23-e945-4985-9e37-f1494388a44d' class='xr-var-attrs-in' type='checkbox' ><label for='attrs-30adcb23-e945-4985-9e37-f1494388a44d' title='Show/Hide attributes'><svg class='icon xr-icon-file-text2'><use xlink:href='#icon-file-text2'></use></svg></label><input id='data-47942c9c-0ee6-4a8c-a1dd-8842dd5dd4c3' class='xr-var-data-in' type='checkbox'><label for='data-47942c9c-0ee6-4a8c-a1dd-8842dd5dd4c3' title='Show/Hide data repr'><svg class='icon xr-icon-database'><use xlink:href='#icon-database'></use></svg></label><div class='xr-var-attrs'><dl class='xr-attrs'><dt><span>standard_name :</span></dt><dd>longitude</dd><dt><span>long_name :</span></dt><dd>longitude</dd><dt><span>axis :</span></dt><dd>X</dd><dt><span>units :</span></dt><dd>degrees_east</dd><dt><span>bounds :</span></dt><dd>lon_bnds</dd></dl></div><div class='xr-var-data'><pre>array([-97.5])</pre></div></li></ul></div></li><li class='xr-section-item'><input id='section-925afe3e-a1fd-4026-98f8-193828e7aff2' class='xr-section-summary-in' type='checkbox'  checked><label for='section-925afe3e-a1fd-4026-98f8-193828e7aff2' class='xr-section-summary' >Attributes: <span>(2)</span></label><div class='xr-section-inline-details'></div><div class='xr-section-details'><dl class='xr-attrs'><dt><span>units :</span></dt><dd>mm/day</dd><dt><span>long_name :</span></dt><dd>Precipitation</dd></dl></div></li></ul></div></div>"
      ],
      "text/plain": [
       "<xarray.DataArray 'prec' (time: 10957, lat: 1, lon: 1)>\n",
       "array([[[ 2.05049 ]],\n",
       "\n",
       "       [[14.360595]],\n",
       "\n",
       "       ...,\n",
       "\n",
       "       [[ 0.437015]],\n",
       "\n",
       "       [[ 0.      ]]], dtype=float32)\n",
       "Coordinates:\n",
       "  * time     (time) datetime64[ns] 2070-01-01T12:00:00 ... 2099-12-31T12:00:00\n",
       "  * lat      (lat) float64 36.37\n",
       "  * lon      (lon) float64 -97.5\n",
       "Attributes:\n",
       "    units:      mm/day\n",
       "    long_name:  Precipitation"
      ]
     },
     "execution_count": 180,
     "metadata": {},
     "output_type": "execute_result"
    }
   ],
   "source": [
    "# investigate calendar range of futures models\n",
    "sigfn2 = sigfiles_rcp85[4]  # model #4\n",
    "rainsignal2 = xr.open_dataset(sigfn2)['prec']\n",
    "rainsignal2"
   ]
  },
  {
   "cell_type": "code",
   "execution_count": 181,
   "id": "eb9c91b4",
   "metadata": {},
   "outputs": [
    {
     "data": {
      "image/png": "[encoded data removed]",
      "text/plain": [
       "<Figure size 576x396 with 1 Axes>"
      ]
     },
     "metadata": {},
     "output_type": "display_data"
    }
   ],
   "source": [
    "# Pseudo bar graph (to get initial sense of data)\n",
    "plt.scatter(range(len(hist_counts)),hist_counts)\n",
    "plt.scatter(range(len(rcp85_counts)),rcp85_counts)\n",
    "plt.xlabel('Model')\n",
    "plt.ylabel('raincount');"
   ]
  },
  {
   "cell_type": "code",
   "execution_count": 182,
   "id": "b4d13d31",
   "metadata": {},
   "outputs": [
    {
     "name": "stdout",
     "output_type": "stream",
     "text": [
      "0\n",
      "4\n",
      "8\n",
      "12\n",
      "16\n",
      "20\n",
      "24\n",
      "28\n"
     ]
    }
   ],
   "source": [
    "plt.style.use('seaborn')\n",
    "hist_counts2 = []\n",
    "rcp85_counts2 = []\n",
    "stride = len(hist_counts)//4 \n",
    "for ii in range(0, len(hist_counts), 4):\n",
    "    print(ii)\n",
    "    hist_counts2.append([hist_counts[ii+jj] for jj in range(4)])\n",
    "    rcp85_counts2.append([rcp85_counts[ii+jj] for jj in range(4)])\n",
    "hist_counts2 = np.array(hist_counts2).T\n",
    "rcp85_counts2 = np.array(rcp85_counts2).T"
   ]
  },
  {
   "cell_type": "code",
   "execution_count": 183,
   "id": "bcc96433",
   "metadata": {},
   "outputs": [
    {
     "data": {
      "text/plain": [
       "array([342, 485, 305, 436, 450, 425, 446, 358])"
      ]
     },
     "execution_count": 183,
     "metadata": {},
     "output_type": "execute_result"
    }
   ],
   "source": [
    "hist_counts2[0]   # Dry value for hist models"
   ]
  },
  {
   "cell_type": "code",
   "execution_count": 188,
   "id": "99c49d08",
   "metadata": {},
   "outputs": [
    {
     "data": {
      "text/plain": [
       "([<matplotlib.axis.XTick at 0x2b0721fc17d0>,\n",
       "  <matplotlib.axis.XTick at 0x2b0721fc1950>,\n",
       "  <matplotlib.axis.XTick at 0x2b0721fc1710>,\n",
       "  <matplotlib.axis.XTick at 0x2b07220bfa90>,\n",
       "  <matplotlib.axis.XTick at 0x2b07220bf750>,\n",
       "  <matplotlib.axis.XTick at 0x2b07220cb510>,\n",
       "  <matplotlib.axis.XTick at 0x2b07220cba10>,\n",
       "  <matplotlib.axis.XTick at 0x2b07220cbbd0>],\n",
       " [Text(0, 0, 'raw'),\n",
       "  Text(1, 0, 'RegCM4'),\n",
       "  Text(2, 0, 'WRF'),\n",
       "  Text(3, 0, 'CNN'),\n",
       "  Text(4, 0, 'SDSM'),\n",
       "  Text(5, 0, 'KDDM'),\n",
       "  Text(6, 0, 'MBCn'),\n",
       "  Text(7, 0, 'LOCA')])"
      ]
     },
     "execution_count": 188,
     "metadata": {},
     "output_type": "execute_result"
    },
    {
     "data": {
      "image/png": "[encoded data removed]",
      "text/plain": [
       "<Figure size 576x396 with 1 Axes>"
      ]
     },
     "metadata": {},
     "output_type": "display_data"
    }
   ],
   "source": [
    "# Plot stacked bar graphs\n",
    "\n",
    "names = ['raw','RegCM4','WRF','CNN','SDSM','KDDM','MBCn','LOCA']\n",
    "\n",
    "fields = ['Dry','Moist','Wet']\n",
    "colors = ['orange', 'green', 'blue'] #, '#FAC748']\n",
    "labels = ['Dry: hist', 'Dry: rcp85','Moist: hist', 'Moist: rcp85', 'Wet: hist', 'Wet: rcp85']\n",
    "\n",
    "\n",
    "# plot bars\n",
    "bottom_hist = len(hist_counts2[0]) * [0]\n",
    "bottom_rcp85 = len(rcp85_counts2[0]) * [0]\n",
    "mn = len(hist_counts2[0])\n",
    "xc = range(mn)\n",
    "xf = [xx+.2 for xx in xc]\n",
    "xh = [xx-.2 for xx in xc]\n",
    "\n",
    "for idx, name in enumerate(fields):\n",
    "    plt.bar(x, hist_counts2[idx], width=.2, bottom = bottom_hist, color='tab:'+colors[idx])\n",
    "    plt.bar(xf, rcp85_counts2[idx], width=.2, bottom = bottom_rcp85, color=colors[idx])\n",
    "    bottom_hist = bottom_hist + hist_counts2[idx]\n",
    "    bottom_rcp85 = bottom_rcp85 + rcp85_counts2[idx]\n",
    "    \n",
    "# title, legend, labels\n",
    "plt.title('Precip by Model (hist vs. rcp85)\\n', loc='left')\n",
    "#plt.legend(labels, bbox_to_anchor=([0.55, 1, 0, 0]), ncol=4, frameon=False)\n",
    "plt.legend(labels, bbox_to_anchor=([0.45, 1, 0, 0]), ncol = 3)\n",
    "plt.xlabel('Model name')\n",
    "plt.ylabel('prec (mm/day)')\n",
    "\n",
    "plt.xticks(xc, names)\n"
   ]
  },
  {
   "cell_type": "markdown",
   "id": "a24650d0",
   "metadata": {},
   "source": [
    "# Unstacked bar charts"
   ]
  },
  {
   "cell_type": "markdown",
   "id": "653c9afa",
   "metadata": {},
   "source": [
    "### Historical"
   ]
  },
  {
   "cell_type": "code",
   "execution_count": 196,
   "id": "8d012fe1",
   "metadata": {},
   "outputs": [
    {
     "data": {
      "text/plain": [
       "(array([342, 485, 305, 436, 450, 425, 446, 358]), (4, 8))"
      ]
     },
     "execution_count": 196,
     "metadata": {},
     "output_type": "execute_result"
    }
   ],
   "source": [
    "hist_counts2[0], hist_counts2.shape"
   ]
  },
  {
   "cell_type": "code",
   "execution_count": 224,
   "id": "58fcac59",
   "metadata": {},
   "outputs": [
    {
     "data": {
      "text/plain": [
       "([<matplotlib.axis.XTick at 0x2b07230ba250>,\n",
       "  <matplotlib.axis.XTick at 0x2b07233bb1d0>,\n",
       "  <matplotlib.axis.XTick at 0x2b07232c4610>,\n",
       "  <matplotlib.axis.XTick at 0x2b072343c950>,\n",
       "  <matplotlib.axis.XTick at 0x2b072343c390>,\n",
       "  <matplotlib.axis.XTick at 0x2b0723449150>,\n",
       "  <matplotlib.axis.XTick at 0x2b0723449890>,\n",
       "  <matplotlib.axis.XTick at 0x2b0723453090>],\n",
       " [Text(0, 0, 'raw'),\n",
       "  Text(1, 0, 'RegCM4'),\n",
       "  Text(2, 0, 'WRF'),\n",
       "  Text(3, 0, 'CNN'),\n",
       "  Text(4, 0, 'SDSM'),\n",
       "  Text(5, 0, 'KDDM'),\n",
       "  Text(6, 0, 'MBCn'),\n",
       "  Text(7, 0, 'LOCA')])"
      ]
     },
     "execution_count": 224,
     "metadata": {},
     "output_type": "execute_result"
    },
    {
     "data": {
      "image/png": "[encoded data removed]",
      "text/plain": [
       "<Figure size 576x396 with 1 Axes>"
      ]
     },
     "metadata": {},
     "output_type": "display_data"
    }
   ],
   "source": [
    "# Hist\n",
    "labels = ['Dry', 'Moist', 'Wet']\n",
    "\n",
    "\n",
    "nm = len(hist_counts2[0])\n",
    "xc = range(mn)\n",
    "xd = [xx-.2 for xx in xc]\n",
    "xm = [xx for xx in xc]\n",
    "xw = [xx+.2 for xx in xc]\n",
    "\n",
    "xf = range(nm)\n",
    "plt.bar(xd, hist_counts2[0], width=.2, color='tab:orange')\n",
    "plt.bar(xm, hist_counts2[1], width=.2, color='tab:green')\n",
    "plt.bar(xw, hist_counts2[2], width=.2, color='tab:blue')\n",
    "\n",
    "# title, legend, labels\n",
    "plt.title('Precip by Model: Historical\\n', loc='left')\n",
    "#plt.legend(labels, bbox_to_anchor=([0.55, 1, 0, 0]), ncol=4, frameon=False)\n",
    "plt.legend(labels)\n",
    "plt.xlabel('Model name')\n",
    "#plt.ylabel('prec (mm/day)')\n",
    "plt.ylabel('Count (days)')\n",
    "\n",
    "\n",
    "plt.xticks(xc, names)\n"
   ]
  },
  {
   "cell_type": "markdown",
   "id": "6be25ada",
   "metadata": {},
   "source": [
    "### Rcp85"
   ]
  },
  {
   "cell_type": "code",
   "execution_count": 223,
   "id": "345b24f1",
   "metadata": {},
   "outputs": [
    {
     "data": {
      "text/plain": [
       "([<matplotlib.axis.XTick at 0x2b0723302fd0>,\n",
       "  <matplotlib.axis.XTick at 0x2b0723209a50>,\n",
       "  <matplotlib.axis.XTick at 0x2b0722f77b10>,\n",
       "  <matplotlib.axis.XTick at 0x2b072337e510>,\n",
       "  <matplotlib.axis.XTick at 0x2b072337e4d0>,\n",
       "  <matplotlib.axis.XTick at 0x2b072337ecd0>,\n",
       "  <matplotlib.axis.XTick at 0x2b0723387050>,\n",
       "  <matplotlib.axis.XTick at 0x2b0723387b50>],\n",
       " [Text(0, 0, 'raw'),\n",
       "  Text(1, 0, 'RegCM4'),\n",
       "  Text(2, 0, 'WRF'),\n",
       "  Text(3, 0, 'CNN'),\n",
       "  Text(4, 0, 'SDSM'),\n",
       "  Text(5, 0, 'KDDM'),\n",
       "  Text(6, 0, 'MBCn'),\n",
       "  Text(7, 0, 'LOCA')])"
      ]
     },
     "execution_count": 223,
     "metadata": {},
     "output_type": "execute_result"
    },
    {
     "data": {
      "image/png": "[encoded data removed]",
      "text/plain": [
       "<Figure size 576x396 with 1 Axes>"
      ]
     },
     "metadata": {},
     "output_type": "display_data"
    }
   ],
   "source": [
    "# Rcp85\n",
    "labels = ['Dry', 'Moist', 'Wet']\n",
    "\n",
    "\n",
    "nm = len(hist_counts2[0])\n",
    "xc = range(mn)\n",
    "xd = [xx-.2 for xx in xc]\n",
    "xm = [xx for xx in xc]\n",
    "xw = [xx+.2 for xx in xc]\n",
    "\n",
    "xf = range(nm)\n",
    "plt.bar(xd, rcp85_counts2[0], width=.17, color='tab:orange')\n",
    "plt.bar(xm, rcp85_counts2[1], width=.17, color='tab:green')\n",
    "plt.bar(xw, rcp85_counts2[2], width=.17, color='tab:blue')\n",
    "\n",
    "# title, legend, labels\n",
    "plt.title('Precip by Model: Rcp85\\n', loc='left')\n",
    "#plt.legend(labels, bbox_to_anchor=([0.55, 1, 0, 0]), ncol=4, frameon=False)\n",
    "plt.legend(labels)\n",
    "plt.xlabel('Model name')\n",
    "plt.ylabel('Count (days)')\n",
    "\n",
    "plt.xticks(xc, names)\n"
   ]
  },
  {
   "cell_type": "markdown",
   "id": "aa0844fb",
   "metadata": {},
   "source": [
    "# Unstacked bar charts part2"
   ]
  },
  {
   "cell_type": "markdown",
   "id": "dc8e48de",
   "metadata": {},
   "source": [
    "### Historical vs Rcp85"
   ]
  },
  {
   "cell_type": "code",
   "execution_count": 225,
   "id": "ccde8b32",
   "metadata": {},
   "outputs": [
    {
     "data": {
      "text/plain": [
       "(array([342, 485, 305, 436, 450, 425, 446, 358]), (4, 8))"
      ]
     },
     "execution_count": 225,
     "metadata": {},
     "output_type": "execute_result"
    }
   ],
   "source": [
    "hist_counts2[0], hist_counts2.shape"
   ]
  },
  {
   "cell_type": "code",
   "execution_count": 247,
   "id": "da6d9d96",
   "metadata": {},
   "outputs": [
    {
     "data": {
      "text/plain": [
       "([<matplotlib.axis.XTick at 0x2b0724207290>,\n",
       "  <matplotlib.axis.XTick at 0x2b072409bc90>,\n",
       "  <matplotlib.axis.XTick at 0x2b072411ce90>,\n",
       "  <matplotlib.axis.XTick at 0x2b0724269fd0>,\n",
       "  <matplotlib.axis.XTick at 0x2b0724275690>,\n",
       "  <matplotlib.axis.XTick at 0x2b0724275a50>,\n",
       "  <matplotlib.axis.XTick at 0x2b0724280510>,\n",
       "  <matplotlib.axis.XTick at 0x2b07242808d0>],\n",
       " [Text(0, 0, 'raw'),\n",
       "  Text(1, 0, 'RegCM4'),\n",
       "  Text(2, 0, 'WRF'),\n",
       "  Text(3, 0, 'CNN'),\n",
       "  Text(4, 0, 'SDSM'),\n",
       "  Text(5, 0, 'KDDM'),\n",
       "  Text(6, 0, 'MBCn'),\n",
       "  Text(7, 0, 'LOCA')])"
      ]
     },
     "execution_count": 247,
     "metadata": {},
     "output_type": "execute_result"
    },
    {
     "data": {
      "image/png": "[encoded data removed]",
      "text/plain": [
       "<Figure size 576x396 with 1 Axes>"
      ]
     },
     "metadata": {},
     "output_type": "display_data"
    }
   ],
   "source": [
    "# Dry\n",
    "labels = ['Hist', 'Rcp85']\n",
    "\n",
    "nm = len(hist_counts2[0])\n",
    "xc = range(mn)\n",
    "xd = [xx-.1 for xx in xc]\n",
    "xm = [xx for xx in xc]\n",
    "xw = [xx+.1 for xx in xc]\n",
    "\n",
    "xf = range(nm)\n",
    "plt.bar(xd, hist_counts2[0], width=.2, color='tab:orange')\n",
    "plt.bar(xw, rcp85_counts2[0], width=.2, color='tab:green')\n",
    "#plt.bar(xw, hist_counts2[2], width=.2, color='tab:blue')\n",
    "\n",
    "# title, legend, labels\n",
    "#plt.title('Historical vs. Rcp85: Dry\\n', loc='center')\n",
    "plt.title('Historical vs. Rcp85: Dry\\n', loc='left')\n",
    "#plt.legend(labels, bbox_to_anchor=([0.55, 1, 0, 0]), ncol=4, frameon=False)\n",
    "plt.xlabel('Model name')\n",
    "plt.ylabel('Count (days)')\n",
    "#plt.legend(labels, bbox_to_anchor=([0.45, 1, 0, 0]), ncol = 2)\n",
    "plt.legend(labels)\n",
    "\n",
    "plt.xticks(xc, names)"
   ]
  },
  {
   "cell_type": "code",
   "execution_count": 250,
   "id": "6d7ea95e",
   "metadata": {},
   "outputs": [
    {
     "data": {
      "text/plain": [
       "([<matplotlib.axis.XTick at 0x2b0724419210>,\n",
       "  <matplotlib.axis.XTick at 0x2b0724333f10>,\n",
       "  <matplotlib.axis.XTick at 0x2b07242706d0>,\n",
       "  <matplotlib.axis.XTick at 0x2b0724478f90>,\n",
       "  <matplotlib.axis.XTick at 0x2b07244866d0>,\n",
       "  <matplotlib.axis.XTick at 0x2b0724486a90>,\n",
       "  <matplotlib.axis.XTick at 0x2b0724490550>,\n",
       "  <matplotlib.axis.XTick at 0x2b0724490910>],\n",
       " [Text(0, 0, 'raw'),\n",
       "  Text(1, 0, 'RegCM4'),\n",
       "  Text(2, 0, 'WRF'),\n",
       "  Text(3, 0, 'CNN'),\n",
       "  Text(4, 0, 'SDSM'),\n",
       "  Text(5, 0, 'KDDM'),\n",
       "  Text(6, 0, 'MBCn'),\n",
       "  Text(7, 0, 'LOCA')])"
      ]
     },
     "execution_count": 250,
     "metadata": {},
     "output_type": "execute_result"
    },
    {
     "data": {
      "image/png": "[encoded data removed]",
      "text/plain": [
       "<Figure size 576x396 with 1 Axes>"
      ]
     },
     "metadata": {},
     "output_type": "display_data"
    }
   ],
   "source": [
    "# Moist\n",
    "labels = ['Hist', 'Rcp85']\n",
    "\n",
    "nm = len(hist_counts2[0])\n",
    "xc = range(mn)\n",
    "xd = [xx-.1 for xx in xc]\n",
    "xm = [xx for xx in xc]\n",
    "xw = [xx+.1 for xx in xc]\n",
    "\n",
    "xf = range(nm)\n",
    "plt.bar(xd, hist_counts2[1], width=.2, color='tab:orange')\n",
    "plt.bar(xw, rcp85_counts2[1], width=.2, color='tab:green')\n",
    "#plt.bar(xw, hist_counts2[2], width=.2, color='tab:blue')\n",
    "\n",
    "# title, legend, labels\n",
    "#plt.title('Historical vs. Rcp85: Dry\\n', loc='center')\n",
    "plt.title('Historical vs. Rcp85: Moist\\n', loc='left')\n",
    "#plt.legend(labels, bbox_to_anchor=([0.55, 1, 0, 0]), ncol=4, frameon=False)\n",
    "plt.xlabel('Model name')\n",
    "plt.ylabel('Count (days)')\n",
    "#plt.legend(labels, bbox_to_anchor=([0.45, 1, 0, 0]), ncol = 2)\n",
    "plt.legend(labels)\n",
    "\n",
    "plt.xticks(xc, names)"
   ]
  },
  {
   "cell_type": "code",
   "execution_count": 249,
   "id": "d8afad73",
   "metadata": {},
   "outputs": [
    {
     "data": {
      "text/plain": [
       "([<matplotlib.axis.XTick at 0x2b072436ae50>,\n",
       "  <matplotlib.axis.XTick at 0x2b072436af10>,\n",
       "  <matplotlib.axis.XTick at 0x2b0724328d90>,\n",
       "  <matplotlib.axis.XTick at 0x2b07243cecd0>,\n",
       "  <matplotlib.axis.XTick at 0x2b07243db390>,\n",
       "  <matplotlib.axis.XTick at 0x2b07243db750>,\n",
       "  <matplotlib.axis.XTick at 0x2b07243db950>,\n",
       "  <matplotlib.axis.XTick at 0x2b07243dd5d0>],\n",
       " [Text(0, 0, 'raw'),\n",
       "  Text(1, 0, 'RegCM4'),\n",
       "  Text(2, 0, 'WRF'),\n",
       "  Text(3, 0, 'CNN'),\n",
       "  Text(4, 0, 'SDSM'),\n",
       "  Text(5, 0, 'KDDM'),\n",
       "  Text(6, 0, 'MBCn'),\n",
       "  Text(7, 0, 'LOCA')])"
      ]
     },
     "execution_count": 249,
     "metadata": {},
     "output_type": "execute_result"
    },
    {
     "data": {
      "image/png": "[encoded data removed]",
      "text/plain": [
       "<Figure size 576x396 with 1 Axes>"
      ]
     },
     "metadata": {},
     "output_type": "display_data"
    }
   ],
   "source": [
    "# Wet\n",
    "labels = ['Hist', 'Rcp85']\n",
    "\n",
    "nm = len(hist_counts2[0])\n",
    "xc = range(mn)\n",
    "xd = [xx-.1 for xx in xc]\n",
    "xm = [xx for xx in xc]\n",
    "xw = [xx+.1 for xx in xc]\n",
    "\n",
    "xf = range(nm)\n",
    "plt.bar(xd, hist_counts2[2], width=.2, color='tab:orange')\n",
    "plt.bar(xw, rcp85_counts2[2], width=.2, color='tab:green')\n",
    "#plt.bar(xw, hist_counts2[2], width=.2, color='tab:blue')\n",
    "\n",
    "# title, legend, labels\n",
    "#plt.title('Historical vs. Rcp85: Dry\\n', loc='center')\n",
    "plt.title('Historical vs. Rcp85: Wet\\n', loc='left')\n",
    "#plt.legend(labels, bbox_to_anchor=([0.55, 1, 0, 0]), ncol=4, frameon=False)\n",
    "plt.xlabel('Model name')\n",
    "plt.ylabel('Count (days)')\n",
    "#plt.legend(labels, bbox_to_anchor=([0.45, 1, 0, 0]), ncol = 2)\n",
    "plt.legend(labels)\n",
    "\n",
    "plt.xticks(xc, names)"
   ]
  },
  {
   "cell_type": "code",
   "execution_count": null,
   "id": "0dc6cf64",
   "metadata": {},
   "outputs": [],
   "source": []
  }
 ],
 "metadata": {
  "kernelspec": {
   "display_name": "Python 3 (ipykernel)",
   "language": "python",
   "name": "python3"
  },
  "language_info": {
   "codemirror_mode": {
    "name": "ipython",
    "version": 3
   },
   "file_extension": ".py",
   "mimetype": "text/x-python",
   "name": "python",
   "nbconvert_exporter": "python",
   "pygments_lexer": "ipython3",
   "version": "3.7.11"
  }
 },
 "nbformat": 4,
 "nbformat_minor": 5
}
