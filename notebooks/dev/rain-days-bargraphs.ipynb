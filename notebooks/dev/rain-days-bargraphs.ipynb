{
 "cells": [
  {
   "cell_type": "markdown",
   "id": "b3f089db",
   "metadata": {},
   "source": [
    "# Find rain days in a specified region, given 8 upper atm variables and respective Gridmet data.\n",
    "\n",
    "This notebook calculates average rain on a 128x128 grid, it then averages the respective 8 upper atm variables. \n",
    "\n",
    "* this version loads netcdf files directly via xarray\n",
    "* \"Gridmet data\" can now be replaced with any model's output\n",
    "\n",
    "### TODO items\n",
    "\n",
    "* better graphs (i.e. include lat/lon scale)\n",
    "\n"
   ]
  },
  {
   "cell_type": "code",
   "execution_count": 1,
   "id": "1005fa5c",
   "metadata": {},
   "outputs": [],
   "source": [
    "from IPython import display\n",
    "import numpy as np\n",
    "\n",
    "#from skimage.metrics import structural_similarity as ssim\n",
    "import copy\n"
   ]
  },
  {
   "cell_type": "code",
   "execution_count": 2,
   "id": "a833938d",
   "metadata": {},
   "outputs": [],
   "source": [
    "# load netcdf files directly via xarray\n",
    "import xarray as xr\n",
    "import matplotlib.pyplot as plt\n",
    "import cartopy.crs as ccrs\n",
    "import cartopy"
   ]
  },
  {
   "cell_type": "markdown",
   "id": "7ffa4495",
   "metadata": {},
   "source": [
    "# Configuration"
   ]
  },
  {
   "cell_type": "code",
   "execution_count": 3,
   "id": "3dd57356",
   "metadata": {},
   "outputs": [],
   "source": [
    "# Ordering: nRow ordering: obs, raw, RegCM4, WRF, MPAS, CNN, SDSM, KDDM, MBCn, LOCA\n",
    "mpi_sigfiles=['/glade/work/mcginnis/DCA/data/gen/final/gridmet/hist/prec.hist.gridMET.obs.day.1980-2005.NAM-22i.SGP.x098.y36.nc',\n",
    "'/glade/work/mcginnis/DCA/data/gen/final/mpi/hist/prec.hist.MPI-ESM-LR.raw.day.1980-2005.NAM-22i.SGP.x098.y36.nc',\n",
    "'/glade/work/mcginnis/DCA/data/gen/final/mpi/rcp85/prec.rcp85.MPI-ESM-LR.raw.day.2075-2100.NAM-22i.SGP.x098.y36.nc',\n",
    "'/glade/work/mcginnis/DCA/data/gen/final/regcm4/hist/prec.hist.MPI-ESM-LR.RegCM4.day.1980-2005.NAM-22i.SGP.x098.y36.nc',\n",
    "'/glade/work/mcginnis/DCA/data/gen/final/regcm4/rcp85/prec.rcp85.MPI-ESM-LR.RegCM4.day.2075-2100.NAM-22i.SGP.x098.y36.nc',\n",
    "'/glade/work/mcginnis/DCA/data/gen/final/wrf/hist/prec.hist.MPI-ESM-LR.WRF.day.1980-2005.NAM-22i.SGP.x098.y36.nc',\n",
    "'/glade/work/mcginnis/DCA/data/gen/final/wrf/rcp85/prec.rcp85.MPI-ESM-LR.WRF.day.2075-2100.NAM-22i.SGP.x098.y36.nc',\n",
    "'/glade/work/mcginnis/DCA/data/gen/final/mpas/hist/prec.hist.MPI-ESM-LR.MPAS.day.1980-2005.NAM-22i.SGP.x098.y36.nc',\n",
    "'/glade/work/mcginnis/DCA/data/gen/final/mpas/rcp85/prec.rcp85.MPI-ESM-LR.MPAS.day.2075-2100.NAM-22i.SGP.x098.y36.nc',\n",
    "'/glade/work/mcginnis/DCA/data/gen/final/cnn/hist/prec.hist.MPI-ESM-LR.CNN.day.1980-2005.NAM-22i.SGP.x098.y36.nc',\n",
    "'/glade/work/mcginnis/DCA/data/gen/final/cnn/rcp85/prec.rcp85.MPI-ESM-LR.CNN.day.2075-2100.NAM-22i.SGP.x098.y36.nc',\n",
    "'/glade/work/mcginnis/DCA/data/gen/sdsm/hist/prec.hist.MPI-ESM-LR.SDSM.day.1976-2005.NAM-22i.SGP.x098.y36.nc',\n",
    "'/glade/work/mcginnis/DCA/data/gen/sdsm/rcp85/prec.rcp85.MPI-ESM-LR.SDSM.day.2070-2099.NAM-22i.SGP.x098.y36.nc',\n",
    "'/glade/work/mcginnis/DCA/data/gen/final/kddm/hist/prec.hist.MPI-ESM-LR.KDDM.day.1980-2005.NAM-22i.SGP.x098.y36.nc',\n",
    "'/glade/work/mcginnis/DCA/data/gen/final/kddm/rcp85/prec.rcp85.MPI-ESM-LR.KDDM.day.2075-2100.NAM-22i.SGP.x098.y36.nc',\n",
    "'/glade/work/mcginnis/DCA/data/gen/final/mbcn/hist/prec.hist.MPI-ESM-LR.MBCn.day.1980-2005.NAM-22i.SGP.x098.y36.nc',\n",
    "'/glade/work/mcginnis/DCA/data/gen/final/mbcn/rcp85/prec.rcp85.MPI-ESM-LR.MBCn.day.2075-2100.NAM-22i.SGP.x098.y36.nc',\n",
    "'/glade/work/mcginnis/DCA/data/gen/final/loca/hist/prec.hist.MPI-ESM-LR.LOCA.day.1980-2005.NAM-22i.SGP.x098.y36.nc',\n",
    "'/glade/work/mcginnis/DCA/data/gen/final/loca/rcp85/prec.rcp85.MPI-ESM-LR.LOCA.day.2075-2100.NAM-22i.SGP.x098.y36.nc']"
   ]
  },
  {
   "cell_type": "markdown",
   "id": "04608df0",
   "metadata": {},
   "source": [
    "# Compact Configuration"
   ]
  },
  {
   "cell_type": "code",
   "execution_count": 4,
   "id": "f77fce97",
   "metadata": {},
   "outputs": [],
   "source": [
    "sigdir = '/glade/work/mcginnis/DCA/data/gen/final'\n",
    "def model2absfilepath(mn, exp, x, y):\n",
    "    if mn == 'obs' or mn == 'gridMET':\n",
    "        mn = 'gridMET'\n",
    "        filename = 'prec.{}.gridMET.{}.day.1980-2005.NAM-22i.SGP.x0{}.y{}.nc'.format(exp, 'obs', x, y)\n",
    "    elif mn == 'raw' or mn == 'mpi':\n",
    "        mn = 'mpi'\n",
    "        if exp == 'hist':\n",
    "            filename = 'prec.{}.MPI-ESM-LR.{}.day.1980-2005.NAM-22i.SGP.x0{}.y{}.nc'.format(exp, 'raw', x, y)\n",
    "        elif exp == 'rcp85':\n",
    "            filename = 'prec.{}.MPI-ESM-LR.{}.day.2075-2100.NAM-22i.SGP.x0{}.y{}.nc'.format(exp, 'raw', x, y)\n",
    "        else: print(\"Unknown experiment!\")\n",
    "    elif mn == 'SDSM':  # starts at 1976\n",
    "        if exp == 'hist':\n",
    "            filename = 'prec.{}.MPI-ESM-LR.{}.day.1976-2005.NAM-22i.SGP.x0{}.y{}.nc'.format(exp, mn, x, y)\n",
    "        elif exp == 'rcp85':\n",
    "            filename = 'prec.{}.MPI-ESM-LR.{}.day.2070-2099.NAM-22i.SGP.x0{}.y{}.nc'.format(exp, mn, x, y)\n",
    "        else: print(\"Unknown experiment!\")\n",
    "\n",
    "    elif exp == 'hist':\n",
    "        filename = 'prec.{}.MPI-ESM-LR.{}.day.1980-2005.NAM-22i.SGP.x0{}.y{}.nc'.format(exp, mn, x, y)\n",
    "    elif exp == 'rcp85':\n",
    "        filename = 'prec.{}.MPI-ESM-LR.{}.day.2075-2100.NAM-22i.SGP.x0{}.y{}.nc'.format(exp, mn, x, y)\n",
    "    else: print(\"Unknown experiment!\")\n",
    "    return sigdir + '/' + mn.lower() + '/' + exp + '/' + filename\n",
    "    "
   ]
  },
  {
   "cell_type": "code",
   "execution_count": 5,
   "id": "5038863b",
   "metadata": {},
   "outputs": [
    {
     "data": {
      "text/plain": [
       "'/glade/work/mcginnis/DCA/data/gen/final/regcm4/rcp85/prec.rcp85.MPI-ESM-LR.RegCM4.day.2075-2100.NAM-22i.SGP.x098.y36.nc'"
      ]
     },
     "execution_count": 5,
     "metadata": {},
     "output_type": "execute_result"
    }
   ],
   "source": [
    "# test single file\n",
    "model2absfilepath('RegCM4', 'rcp85', 98, 36)"
   ]
  },
  {
   "cell_type": "code",
   "execution_count": 6,
   "id": "20c7b421",
   "metadata": {},
   "outputs": [
    {
     "data": {
      "text/plain": [
       "['/glade/work/mcginnis/DCA/data/gen/final/gridmet/hist/prec.hist.gridMET.obs.day.1980-2005.NAM-22i.SGP.x098.y36.nc',\n",
       " '/glade/work/mcginnis/DCA/data/gen/final/mpi/hist/prec.hist.MPI-ESM-LR.raw.day.1980-2005.NAM-22i.SGP.x098.y36.nc',\n",
       " '/glade/work/mcginnis/DCA/data/gen/final/regcm4/hist/prec.hist.MPI-ESM-LR.RegCM4.day.1980-2005.NAM-22i.SGP.x098.y36.nc',\n",
       " '/glade/work/mcginnis/DCA/data/gen/final/wrf/hist/prec.hist.MPI-ESM-LR.WRF.day.1980-2005.NAM-22i.SGP.x098.y36.nc',\n",
       " '/glade/work/mcginnis/DCA/data/gen/final/mpas/hist/prec.hist.MPI-ESM-LR.MPAS.day.1980-2005.NAM-22i.SGP.x098.y36.nc',\n",
       " '/glade/work/mcginnis/DCA/data/gen/final/cnn/hist/prec.hist.MPI-ESM-LR.CNN.day.1980-2005.NAM-22i.SGP.x098.y36.nc',\n",
       " '/glade/work/mcginnis/DCA/data/gen/final/sdsm/hist/prec.hist.MPI-ESM-LR.SDSM.day.1976-2005.NAM-22i.SGP.x098.y36.nc',\n",
       " '/glade/work/mcginnis/DCA/data/gen/final/kddm/hist/prec.hist.MPI-ESM-LR.KDDM.day.1980-2005.NAM-22i.SGP.x098.y36.nc',\n",
       " '/glade/work/mcginnis/DCA/data/gen/final/mbcn/hist/prec.hist.MPI-ESM-LR.MBCn.day.1980-2005.NAM-22i.SGP.x098.y36.nc',\n",
       " '/glade/work/mcginnis/DCA/data/gen/final/loca/hist/prec.hist.MPI-ESM-LR.LOCA.day.1980-2005.NAM-22i.SGP.x098.y36.nc']"
      ]
     },
     "execution_count": 6,
     "metadata": {},
     "output_type": "execute_result"
    }
   ],
   "source": [
    "# create list of abs filepaths\n",
    "[model2absfilepath(ff, 'hist', 98, 36) for ff in ['obs','raw','RegCM4','WRF','MPAS','CNN','SDSM','KDDM','MBCn','LOCA']]\n"
   ]
  },
  {
   "cell_type": "markdown",
   "id": "c9c05cf2",
   "metadata": {},
   "source": [
    "### Load model output data"
   ]
  },
  {
   "cell_type": "code",
   "execution_count": 7,
   "id": "b5ffef16",
   "metadata": {},
   "outputs": [],
   "source": [
    "##################\n",
    "## LOAD GRIDMET ##\n",
    "##################\n",
    "# 1980-1989\n",
    "istart = 365\n",
    "#ndays = 3653  # 1980-1989\n",
    "ndays = 13515 # 1980-2016 \n",
    "\n",
    "dv1 = xr.open_dataset('/glade/work/dkorytin/srgan_data/prec128_gridmetA_1979-2016.nc')['prec'][istart:istart+ndays]\n",
    "# dv2 = xr.open_dataset('/glade/work/dkorytin/srgan_data/tmax128_gridmetA_1979-2016.nc')['tmax'][istart:istart+ndays]\n",
    "# dv3 = xr.open_dataset('/glade/work/dkorytin/srgan_data/tmin128_gridmetA_1979-2016.nc')['tmin'][istart:istart+ndays]\n",
    "# dv4 = xr.open_dataset('/glade/work/dkorytin/srgan_data/uas128_gridmetA_1979-2016.nc')['uas'][istart:istart+ndays]\n",
    "# dv5 = xr.open_dataset('/glade/work/dkorytin/srgan_data/vas128_gridmetA_1979-2016.nc')['vas'][istart:istart+ndays]\n",
    "# dv6 = xr.open_dataset('/glade/work/dkorytin/srgan_data/huss128_gridmetA_1979-2016.nc')['huss'][istart:istart+ndays]\n",
    "# dv7 = xr.open_dataset('/glade/work/dkorytin/srgan_data/rsds128_gridmetA_1979-2016.nc')['rsds'][istart:istart+ndays]\n",
    "# dv8 = xr.open_dataset('/glade/work/dkorytin/srgan_data/miss128_gridmetB_1979-2016.nc')['miss'][istart:istart+ndays]\n",
    "\n",
    "\n"
   ]
  },
  {
   "cell_type": "markdown",
   "id": "34aed62f",
   "metadata": {},
   "source": [
    "### Load MPI UATM data"
   ]
  },
  {
   "cell_type": "code",
   "execution_count": 8,
   "id": "35b84df9",
   "metadata": {},
   "outputs": [],
   "source": [
    "###########################\n",
    "## LOAD ERAI data: daily ##\n",
    "###########################\n",
    "def load_uatm_erai():\n",
    "    global mdv1,mdv2,mdv3,mdv4,mdv5,mdv6,mdv7,mdv8,mnvars\n",
    "    \n",
    "    # load eraionmpi\n",
    "    #mndays = 11688      # 1979-2010\n",
    "    mstart = 365\n",
    "    mndays = 13515       # 1980-2016 \n",
    "    mnvars = 8*1\n",
    "    mdv1 = xr.open_dataset('/glade/scratch/dkorytin/erai-on-mpigrid/U850.ERAI.MPIGRID.1979-2018.nc')['U'][mstart:mstart+mndays*1]\n",
    "    mdv2 = xr.open_dataset('/glade/scratch/dkorytin/erai-on-mpigrid/V850.ERAI.MPIGRID.1979-2018.nc')['V'][mstart:mstart+mndays*1]\n",
    "    mdv3 = xr.open_dataset('/glade/scratch/dkorytin/erai-on-mpigrid/Q850.ERAI.MPIGRID.1979-2018.nc')['Q'][mstart:mstart+mndays*1]\n",
    "    mdv4 = xr.open_dataset('/glade/scratch/dkorytin/erai-on-mpigrid/T700.ERAI.MPIGRID.1979-2018.nc')['T'][mstart:mstart+mndays*1]\n",
    "    mdv5 = xr.open_dataset('/glade/scratch/dkorytin/erai-on-mpigrid/Z700.ERAI.MPIGRID.1979-2018.nc')['Z'][mstart:mstart+mndays*1]\n",
    "    mdv6 = xr.open_dataset('/glade/scratch/dkorytin/erai-on-mpigrid/Z500.ERAI.MPIGRID.1979-2018.nc')['Z'][mstart:mstart+mndays*1]\n",
    "    mdv7 = xr.open_dataset('/glade/scratch/dkorytin/erai-on-mpigrid/U250.ERAI.MPIGRID.1979-2018.nc')['U'][mstart:mstart+mndays*1]\n",
    "    mdv8 = xr.open_dataset('/glade/scratch/dkorytin/erai-on-mpigrid/V250.ERAI.MPIGRID.1979-2018.nc')['V'][mstart:mstart+mndays*1]\n",
    "\n",
    "    print(\"Days loaded\", len(mdv7))\n"
   ]
  },
  {
   "cell_type": "code",
   "execution_count": 9,
   "id": "f6a1da47",
   "metadata": {},
   "outputs": [],
   "source": [
    "###################\n",
    "## LOAD MPI      ##\n",
    "###################  \n",
    "def load_uatm_mpi_hist():\n",
    "    global mdv1,mdv2,mdv3,mdv4,mdv5,mdv6,mdv7,mdv8,mnvars\n",
    "    \n",
    "    mnvars = 8\n",
    "    \n",
    "    d='/glade/p/ral/risc/rmccrary/CMIP5_CORDEX/NAmerica/MPI-ESM-LR/native/historical/'\n",
    "\n",
    "    mdv1 = xr.open_dataset(d+'U_MPI-ESM-LR_historical_r1i1p1_NAmerica_p850_19500101-20051231_dayavg_mpigrid.nc')['U'].sel(time=slice('1976-01-01T00:00:00', '2006-01-01T00:00:00'), lat=slice(23,56), lon=slice(-113,-80))\n",
    "    mdv2 = xr.open_dataset(d+'V_MPI-ESM-LR_historical_r1i1p1_NAmerica_p850_19500101-20051231_dayavg_mpigrid.nc')['V'].sel(time=slice('1976-01-01T00:00:00', '2006-01-01T00:00:00'), lat=slice(23,56), lon=slice(-113,-80))\n",
    "    mdv3 = xr.open_dataset(d+'Q_MPI-ESM-LR_historical_r1i1p1_NAmerica_p850_19500101-20051231_dayavg_mpigrid.nc')['Q'].sel(time=slice('1976-01-01T00:00:00', '2006-01-01T00:00:00'), lat=slice(23,56), lon=slice(-113,-80))\n",
    "    mdv4 = xr.open_dataset(d+'T_MPI-ESM-LR_historical_r1i1p1_NAmerica_p700_19500101-20051231_dayavg_mpigrid.nc')['T'].sel(time=slice('1976-01-01T00:00:00', '2006-01-01T00:00:00'), lat=slice(23,56), lon=slice(-113,-80))\n",
    "    mdv5 = xr.open_dataset(d+'Z_MPI-ESM-LR_historical_r1i1p1_NAmerica_p700_19500101-20051231_dayavg_mpigrid.nc')['Z'].sel(time=slice('1976-01-01T00:00:00', '2006-01-01T00:00:00'), lat=slice(23,56), lon=slice(-113,-80))\n",
    "    mdv6 = xr.open_dataset(d+'Z_MPI-ESM-LR_historical_r1i1p1_NAmerica_p500_19500101-20051231_dayavg_mpigrid.nc')['Z'].sel(time=slice('1976-01-01T00:00:00', '2006-01-01T00:00:00'), lat=slice(23,56), lon=slice(-113,-80))\n",
    "    mdv7 = xr.open_dataset(d+'U_MPI-ESM-LR_historical_r1i1p1_NAmerica_p250_19500101-20051231_dayavg_mpigrid.nc')['U'].sel(time=slice('1976-01-01T00:00:00', '2006-01-01T00:00:00'), lat=slice(23,56), lon=slice(-113,-80))\n",
    "    mdv8 = xr.open_dataset(d+'V_MPI-ESM-LR_historical_r1i1p1_NAmerica_p250_19500101-20051231_dayavg_mpigrid.nc')['V'].sel(time=slice('1976-01-01T00:00:00', '2006-01-01T00:00:00'), lat=slice(23,56), lon=slice(-113,-80))\n",
    "\n",
    "def load_uatm_mpi_future():\n",
    "    global mdv1,mdv2,mdv3,mdv4,mdv5,mdv6,mdv7,mdv8,mnvars\n",
    "    \n",
    "    d='/glade/p/ral/risc/rmccrary/CMIP5_CORDEX/NAmerica/MPI-ESM-LR/native/rcp85/'\n",
    "\n",
    "    mnvars = 8\n",
    "    mdv1 = xr.open_dataset(d+'U_MPI-ESM-LR_rcp85_r1i1p1_NAmerica_p850_20060101-21001231_dayavg_mpigrid.nc')['U'].sel(time=slice('2006-01-01T00:00:00', '2101-01-01T00:00:00'), lat=slice(23,56), lon=slice(-113,-80))\n",
    "    mdv2 = xr.open_dataset(d+'V_MPI-ESM-LR_rcp85_r1i1p1_NAmerica_p850_20060101-21001231_dayavg_mpigrid.nc')['V'].sel(time=slice('2006-01-01T00:00:00', '2101-01-01T00:00:00'), lat=slice(23,56), lon=slice(-113,-80))\n",
    "    mdv3 = xr.open_dataset(d+'Q_MPI-ESM-LR_rcp85_r1i1p1_NAmerica_p850_20060101-21001231_dayavg_mpigrid.nc')['Q'].sel(time=slice('2006-01-01T00:00:00', '2101-01-01T00:00:00'), lat=slice(23,56), lon=slice(-113,-80))\n",
    "    mdv4 = xr.open_dataset(d+'T_MPI-ESM-LR_rcp85_r1i1p1_NAmerica_p700_20060101-21001231_dayavg_mpigrid.nc')['T'].sel(time=slice('2006-01-01T00:00:00', '2101-01-01T00:00:00'), lat=slice(23,56), lon=slice(-113,-80))\n",
    "    mdv5 = xr.open_dataset(d+'Z_MPI-ESM-LR_rcp85_r1i1p1_NAmerica_p700_20060101-21001231_dayavg_mpigrid.nc')['Z'].sel(time=slice('2006-01-01T00:00:00', '2101-01-01T00:00:00'), lat=slice(23,56), lon=slice(-113,-80))\n",
    "    mdv6 = xr.open_dataset(d+'Z_MPI-ESM-LR_rcp85_r1i1p1_NAmerica_p500_20060101-21001231_dayavg_mpigrid.nc')['Z'].sel(time=slice('2006-01-01T00:00:00', '2101-01-01T00:00:00'), lat=slice(23,56), lon=slice(-113,-80))\n",
    "    mdv7 = xr.open_dataset(d+'U_MPI-ESM-LR_rcp85_r1i1p1_NAmerica_p250_20060101-21001231_dayavg_mpigrid.nc')['U'].sel(time=slice('2006-01-01T00:00:00', '2101-01-01T00:00:00'), lat=slice(23,56), lon=slice(-113,-80))\n",
    "    mdv8 = xr.open_dataset(d+'V_MPI-ESM-LR_rcp85_r1i1p1_NAmerica_p250_20060101-21001231_dayavg_mpigrid.nc')['V'].sel(time=slice('2006-01-01T00:00:00', '2101-01-01T00:00:00'), lat=slice(23,56), lon=slice(-113,-80))\n",
    "\n",
    "#load_uatm_mpi_future()\n"
   ]
  },
  {
   "cell_type": "markdown",
   "id": "5496bc22",
   "metadata": {},
   "source": [
    "# Averaging code"
   ]
  },
  {
   "cell_type": "code",
   "execution_count": 10,
   "id": "a8f8e7a1",
   "metadata": {},
   "outputs": [],
   "source": [
    "###################\n",
    "## UATM averages ##\n",
    "###################\n",
    "\n",
    "def calc_uatm_average(mpr_min, mpr_max, rainsignal, ymin, ymax):\n",
    "    # global inputs: dv[1-8], mdv[1-8], mnvars\n",
    "    mnvars = 8\n",
    "    \n",
    "    # initialize accumulators\n",
    "    indices = []\n",
    "    distribution = []\n",
    "    raw_ires = len(mdv1[0])\n",
    "    raininput = np.zeros((mnvars, raw_ires, raw_ires))\n",
    "    raincount = 0\n",
    "    \n",
    "    for ii in range(0,len(rainsignal)):\n",
    "        mpr = rainsignal[ii]\n",
    "            \n",
    "        # May = 5\n",
    "        if mpr[\"time.month\"] == 5 and mpr[\"time.year\"] >= ymin and mpr[\"time.year\"] < ymax:    \n",
    "\n",
    "\n",
    "\n",
    "            if mpr >= mpr_min and mpr < mpr_max:\n",
    "                distribution.append(mpr)\n",
    "                indices.append(ii)\n",
    "\n",
    "                #mpr = dv1[ii].sel(lat=slice(32.125,38.125), lon=slice(-101.875,-93.875)).mean()\n",
    "\n",
    "                # find matching input sample \n",
    "                #ot= dv1[ii-1]['time']\n",
    "                ot = str(np.array(mpr['time']))\n",
    "\n",
    "                mdv1.sel(time=ot,method='nearest')\n",
    "                isample = [mdv1.sel(time=ot,method='nearest'),mdv2.sel(time=ot,method='nearest'),mdv3.sel(time=ot,method='nearest'),mdv4.sel(time=ot,method='nearest'),mdv5.sel(time=ot,method='nearest'),mdv6.sel(time=ot,method='nearest'),mdv7.sel(time=ot,method='nearest'),mdv8.sel(time=ot,method='nearest')]\n",
    "                #ot= dv1[ii]['time']\n",
    "                #assert ot[\"time.day\"]==isample[0]['time.day'], \"Days are not equal\"\n",
    "                isample = np.array(isample)\n",
    "\n",
    "                raininput += isample\n",
    "                raincount += 1\n",
    "            \n",
    "    raininput /= raincount\n",
    "    #print(\"days:\", raincount)\n",
    "    \n",
    "    return raininput, raincount, distribution, indices\n",
    "    "
   ]
  },
  {
   "cell_type": "markdown",
   "id": "4c9e9e9a",
   "metadata": {},
   "source": [
    "# Plot routines"
   ]
  },
  {
   "cell_type": "code",
   "execution_count": 11,
   "id": "a6aa6df8",
   "metadata": {},
   "outputs": [],
   "source": [
    "import matplotlib.pyplot as plt\n",
    "import cartopy.crs as ccrs\n",
    "import cartopy\n",
    "import cartopy.feature as cfeature\n",
    "\n",
    "# plot average rain inputs\n",
    "def plot_8v_clim(isample, modelname, vmin, vmax):\n",
    "#     varmames = ['U850', 'V850', 'Q850', 'T700', 'Z700', 'Z500', 'U250', 'V250']\n",
    "#     units = ['m/s', 'm/s', 'kg/kg', 'K', 'mb', 'mb', 'm/s', 'm/s']\n",
    "#     cmaps = ['PiYG', 'PuOr', 'cividis', 'inferno', 'viridis', 'viridis', 'PiYG', 'PuOr']\n",
    "        \n",
    "#     fig, axarr = plt.subplots(1, 8, figsize = (20,20))\n",
    "#     for ii in range(8):\n",
    "#         plot = axarr[ii].imshow(isample[ii][::-1,:], vmin=vmin[ii], vmax=vmax[ii], cmap=cmaps[ii])\n",
    "#         cbar = fig.colorbar(plot, ax=axarr[ii], orientation=\"horizontal\", fraction=0.046, pad=0.016)\n",
    "#         cbar.set_label(units[ii])\n",
    "#         axarr[ii].set_title(varmames[ii])\n",
    "#     plt.suptitle(modelname, y=0.29, fontsize=16)\n",
    "#     plt.show()\n",
    "    varmames = ['U850', 'V850', 'Q850', 'T700', 'Z700', 'Z500', 'U250', 'V250']\n",
    "    units = ['m/s', 'm/s', 'kg/kg', 'K', 'mb', 'mb', 'm/s', 'm/s']\n",
    "    #cmaps = ['PiYG', 'PuOr', 'cividis', 'inferno', 'viridis', 'viridis', 'PiYG', 'PuOr']\n",
    "    cmaps = ['PiYG', 'PuOr', 'BrBG', 'RdBu_r', 'Spectral', 'Spectral', 'PiYG', 'PuOr']\n",
    "\n",
    "    \n",
    "\n",
    "    # ALL Ranges centered on zero for U, V\n",
    "    for ii in range(8):\n",
    "        vmin[ii] = -max(abs(vmin[ii]), abs(vmax[ii]))\n",
    "        vmax[ii] = max(abs(vmin[ii]), abs(vmax[ii]))\n",
    "\n",
    "\n",
    "          \n",
    "    fig, axarr = plt.subplots(1, 8, figsize = (20,20), subplot_kw={'projection': ccrs.PlateCarree()})\n",
    "    lon = mdv1[0].lon\n",
    "    lat = mdv1[0].lat\n",
    "\n",
    "    for ii in range(8):\n",
    "        \n",
    "        #axarr[ii].set_title(\"Subplot row\", fontsize=16)\n",
    "        axarr[ii].coastlines()\n",
    "        axarr[ii].add_feature(cfeature.STATES)\n",
    "        img_extent = (lon.min(), lon.max(), lat.min(), lat.max())\n",
    "        plot = axarr[ii].imshow(isample[ii][::-1,:], vmin=vmin[ii], vmax=vmax[ii], cmap=cmaps[ii], origin='upper', extent=img_extent, transform=ccrs.PlateCarree())  \n",
    "        #plot = axarr[ii].imshow(isample[ii][::-1,:], vmin=vmin[ii], vmax=vmax[ii], cmap=cmaps[ii])\n",
    "        cbar = fig.colorbar(plot, ax=axarr[ii], orientation=\"horizontal\", fraction=0.046, pad=0.016)\n",
    "        cbar.set_label(units[ii])\n",
    "        axarr[ii].set_title(varmames[ii])\n",
    "        \n",
    "\n",
    "    plt.suptitle(modelname, y=0.29, fontsize=16)\n",
    "    plt.show()\n",
    "\n",
    "def plot_8v_abs(isample, modelname, vmin, vmax):\n",
    "    varmames = ['U850', 'V850', 'Q850', 'T700', 'Z700', 'Z500', 'U250', 'V250']\n",
    "    units = ['m/s', 'm/s', 'kg/kg', 'K', 'mb', 'mb', 'm/s', 'm/s']\n",
    "    cmaps = ['PiYG', 'PuOr', 'cividis', 'inferno', 'viridis', 'viridis', 'PiYG', 'PuOr']\n",
    "    #cmaps = ['PiYG', 'PuOr', 'BrBG', 'RdBu_r', 'Spectral', 'Spectral', 'PiYG', 'PuOr']\n",
    "\n",
    "    \n",
    "\n",
    "#     # ALL Ranges centered on zero for U, V\n",
    "#     for ii in range(8):\n",
    "#         vmin[ii] = -max(abs(vmin[ii]), abs(vmax[ii]))\n",
    "#         vmax[ii] = max(abs(vmin[ii]), abs(vmax[ii]))\n",
    "\n",
    "\n",
    "          \n",
    "    fig, axarr = plt.subplots(1, 8, figsize = (20,20), subplot_kw={'projection': ccrs.PlateCarree()})\n",
    "    lon = mdv1[0].lon\n",
    "    lat = mdv1[0].lat\n",
    "\n",
    "    for ii in range(8):\n",
    "        \n",
    "        #axarr[ii].set_title(\"Subplot row\", fontsize=16)\n",
    "        axarr[ii].coastlines()\n",
    "        axarr[ii].add_feature(cfeature.STATES)\n",
    "        img_extent = (lon.min(), lon.max(), lat.min(), lat.max())\n",
    "        plot = axarr[ii].imshow(isample[ii][::-1,:], vmin=vmin[ii], vmax=vmax[ii], cmap=cmaps[ii], origin='upper', extent=img_extent, transform=ccrs.PlateCarree())  \n",
    "        #plot = axarr[ii].imshow(isample[ii][::-1,:], vmin=vmin[ii], vmax=vmax[ii], cmap=cmaps[ii])\n",
    "        cbar = fig.colorbar(plot, ax=axarr[ii], orientation=\"horizontal\", fraction=0.046, pad=0.016)\n",
    "        cbar.set_label(units[ii])\n",
    "        axarr[ii].set_title(varmames[ii])\n",
    "        \n",
    "\n",
    "    plt.suptitle(modelname, y=0.29, fontsize=16)\n",
    "    plt.show()\n",
    "\n",
    "    \n",
    "\n",
    "def plot_8v_autoscale(isample, modelname):\n",
    "    varmames = ['U850', 'V850', 'Q850', 'T700', 'Z700', 'Z500', 'U250', 'V250']\n",
    "    units = ['m/s', 'm/s', 'kg/kg', 'K', 'mb', 'mb', 'm/s', 'm/s']\n",
    "    #cmaps = ['PiYG', 'PuOr', 'cividis', 'inferno', 'viridis', 'viridis', 'PiYG', 'PuOr']\n",
    "    cmaps = ['PiYG', 'PuOr', 'BrBG', 'RdBu_r', 'Spectral', 'Spectral', 'PiYG', 'PuOr']\n",
    "    \n",
    "    # autoscale\n",
    "    vmin = [isample[ii].min() for ii in range(8)]\n",
    "    vmax = [isample[ii].max() for ii in range(8)]\n",
    "\n",
    "#     # Use 0 as minimum value for Q\n",
    "#     vmin[2] = 0. \n",
    "\n",
    "    # Ranges centered on zero for U, V\n",
    "    vmin[0] = -max(abs(vmin[0]), abs(vmax[0]))\n",
    "    vmax[0] = max(abs(vmin[0]), abs(vmax[0]))\n",
    "    vmin[1] = -max(abs(vmin[1]), abs(vmax[1]))\n",
    "    vmax[1] = max(abs(vmin[1]), abs(vmax[1]))\n",
    "    \n",
    "    vmin[6] = -max(abs(vmin[6]), abs(vmax[6]))\n",
    "    vmax[6] = max(abs(vmin[6]), abs(vmax[6]))\n",
    "    vmin[7] = -max(abs(vmin[7]), abs(vmax[7]))\n",
    "    vmax[7] = max(abs(vmin[7]), abs(vmax[7]))\n",
    "\n",
    "          \n",
    "    fig, axarr = plt.subplots(1, 8, figsize = (20,20), subplot_kw={'projection': ccrs.PlateCarree()})\n",
    "    lon = mdv1[0].lon\n",
    "    lat = mdv1[0].lat\n",
    "\n",
    "    for ii in range(8):\n",
    "        \n",
    "        #axarr[ii].set_title(\"Subplot row\", fontsize=16)\n",
    "        axarr[ii].coastlines()\n",
    "        axarr[ii].add_feature(cfeature.STATES)\n",
    "        img_extent = (lon.min(), lon.max(), lat.min(), lat.max())\n",
    "        plot = axarr[ii].imshow(isample[ii][::-1,:], vmin=vmin[ii], vmax=vmax[ii], cmap=cmaps[ii], origin='upper', extent=img_extent, transform=ccrs.PlateCarree())  \n",
    "        #plot = axarr[ii].imshow(isample[ii][::-1,:], vmin=vmin[ii], vmax=vmax[ii], cmap=cmaps[ii])\n",
    "        cbar = fig.colorbar(plot, ax=axarr[ii], orientation=\"horizontal\", fraction=0.046, pad=0.016)\n",
    "        cbar.set_label(units[ii])\n",
    "        axarr[ii].set_title(varmames[ii])\n",
    "        \n",
    "\n",
    "    plt.suptitle(modelname, y=0.29, fontsize=16)\n",
    "    plt.show()\n"
   ]
  },
  {
   "cell_type": "code",
   "execution_count": 12,
   "id": "fbbe4bc2",
   "metadata": {},
   "outputs": [],
   "source": [
    "# POSTAGE STAMP LAYOUT\n",
    "import matplotlib.pyplot as plt\n",
    "from os.path import basename\n",
    "from mpl_toolkits.axes_grid1.inset_locator import inset_axes\n",
    "import matplotlib.ticker as ticker\n",
    "from matplotlib import ticker\n",
    "\n",
    "import warnings\n",
    "warnings.filterwarnings(\"ignore\")\n",
    "\n",
    "\n",
    "def plot_diff_postage(sigfiles_hist, sigfiles_rcp85, vmin, vmax):     \n",
    "    \n",
    "    # Ranges centered on zero for U, V\n",
    "    vmin[0] = -max(abs(vmin[0]), abs(vmax[0]))\n",
    "    vmax[0] = max(abs(vmin[0]), abs(vmax[0]))\n",
    "    vmin[1] = -max(abs(vmin[1]), abs(vmax[1]))\n",
    "    vmax[1] = max(abs(vmin[1]), abs(vmax[1]))\n",
    "    \n",
    "    # Q850 cubehelix_r, 0:maximum\n",
    "    vmin[2] = 0\n",
    "    \n",
    "    # U250 brg, 0:max\n",
    "    vmin[6] = 0\n",
    "    \n",
    "    # V250 PuOr, symmetric around zero\n",
    "    vmin[7] = -max(abs(vmin[7]), abs(vmax[7]))\n",
    "    vmax[7] = max(abs(vmin[7]), abs(vmax[7]))\n",
    "\n",
    "    # plots \n",
    "    for ii in range(len(sigfiles_hist)):\n",
    "        sigfn1 = sigfiles_hist[ii]\n",
    "        sigfn2 = sigfiles_rcp85[ii]\n",
    "\n",
    "        ## load UATM and signal file\n",
    "        #if sigfile.lower().find('obs') >= 0:\n",
    "        #    load_uatm_erai()\n",
    "\n",
    "        rainsignal1 = xr.open_dataset(sigfn1)['prec']\n",
    "        rainsignal2 = xr.open_dataset(sigfn2)['prec']\n",
    "\n",
    "        # plot\n",
    "        counts1 = [0,0,0]\n",
    "        counts2 = [0,0,0]\n",
    "        \n",
    "        \n",
    "        #fig, axarr = plt.subplots(nrows=3, ncols=8, figsize = (10,10*(3/8.+0.0)), gridspec_kw={'hspace': 0.0, 'wspace': 0.0, 'height_ratios':[1,1,1.3]})\n",
    "        fig, axarr = plt.subplots(nrows=3, ncols=8, figsize = (20,20*(3/8.+0.0)), subplot_kw={'projection': ccrs.PlateCarree()}, gridspec_kw={'hspace': 0.0, 'wspace': 0.0, 'height_ratios':[1,1,1.313]})\n",
    "        lon = mdv1[0].lon\n",
    "        lat = mdv1[0].lat\n",
    "\n",
    "        \n",
    "        for jj, mpr_min, mpr_max, label in [[0, 0., 0.254, 'Dry'], [1, 0.254, 3., 'Moist'], [2, 3., 9999., 'Wet']]:\n",
    "            # calc avg atm for criteria            \n",
    "            load_uatm_mpi_hist()\n",
    "            avginput1, count1, distribution1, indices1 = calc_uatm_average(mpr_min, mpr_max, rainsignal1, -9999, 9999) \n",
    "            load_uatm_mpi_future()\n",
    "            avginput2, count2, distribution2, indices2 = calc_uatm_average(mpr_min, mpr_max, rainsignal2, -9999, 9999) \n",
    "            # future - current\n",
    "            avginput = avginput2-avginput1\n",
    "            \n",
    "            # use percentages intead of counts (2021-10-26)\n",
    "            #counts[jj] = count\n",
    "            allavginput, allcount, alldistribution, allindices = calc_uatm_average(0, 9999, rainsignal1, -9999, 9999) \n",
    "            counts1[jj] = count1/allcount\n",
    "            allavginput, allcount, alldistribution, allindices = calc_uatm_average(0, 9999, rainsignal2, -9999, 9999) \n",
    "            counts2[jj] = count2/allcount\n",
    "\n",
    "            \n",
    "            varmames = ['U850', 'V850', 'Q850', 'T700', 'Z700', 'Z500', 'U250', 'V250']\n",
    "            units = ['m/s', 'm/s', 'kg/kg', 'K', 'mb', 'mb', 'm/s', 'm/s']\n",
    "            #cmaps = ['PiYG', 'PuOr', 'cividis', 'inferno', 'viridis', 'viridis', 'PiYG', 'PuOr']\n",
    "            cmaps = ['PiYG', 'PuOr', 'cubehelix_r', 'inferno', 'terrain', 'Spectral', 'brg', 'PuOr']\n",
    "\n",
    "\n",
    "            \n",
    "            for ii in range(8):\n",
    "                axarr[jj,ii].coastlines()\n",
    "                axarr[jj,ii].add_feature(cfeature.STATES)\n",
    "                img_extent = (lon.min(), lon.max(), lat.min(), lat.max())\n",
    "                \n",
    "                #plot = axarr[jj,ii].imshow(avginput[ii][::-1,:], vmin=vmin[ii], vmax=vmax[ii], cmap=cmaps[ii])\n",
    "                plot = axarr[jj,ii].imshow(avginput[ii][::-1,:], vmin=vmin[ii], vmax=vmax[ii], cmap=cmaps[ii], origin='upper', extent=img_extent, transform=ccrs.PlateCarree())  \n",
    "                \n",
    "                # show y tics on first column\n",
    "                if ii==0:\n",
    "                    axarr[jj,ii].get_yaxis().set_visible(True)\n",
    "                    axarr[jj,ii].tick_params(labelsize='xx-small')\n",
    "                                        \n",
    "                    # We need to draw the canvas, otherwise the labels won't be positioned and \n",
    "                    # won't have values yet.\n",
    "                    fig.canvas.draw()\n",
    "                    \n",
    "                    # lat range: 56 to 23\n",
    "                    labels = [item.get_text() for item in axarr[jj,ii].get_yticklabels()]\n",
    "                    #labels = ['56','46','36','26']\n",
    "                    axarr[jj,ii].set_yticklabels(labels)\n",
    "                    \n",
    "                ## show y labels on last column\n",
    "                #if ii==7:\n",
    "                    ##axarr[jj,ii].get_yaxis().set_visible(True)\n",
    "                    ##axarr[jj,ii].tick_params(labelsize='xx-small')\n",
    "                    #\n",
    "                    #cbar = fig.colorbar(plot, ax=axarr[jj,ii], orientation=\"horizontal\", fraction=0.03, pad=0.2)\n",
    "                    #\n",
    "                    #\n",
    "                    ##ax.set_ylabel(\"Label\", rotation=270)\n",
    "                    #\n",
    "                    ##cbar = fig.colorbar(plot, ax=axarr[jj,ii], orientation=\"vertical\", fraction=0.046, pad=0.016)\n",
    "                    #cbar.set_label('dry', rotation=90, size='xx-small')\n",
    "                    #cbar.ax.tick_params(labelsize='xx-small')\n",
    "\n",
    "                                           \n",
    "                        \n",
    " \n",
    "\n",
    "                if ii>=1:\n",
    "                    axarr[jj,ii].get_yaxis().set_visible(False)\n",
    "                    axarr[jj,ii].tick_params(labelsize='xx-small')\n",
    "\n",
    "\n",
    "                \n",
    "                if jj == 0:\n",
    "                    axarr[jj,ii].set_title(varmames[ii])\n",
    "                    axarr[jj,ii].get_xaxis().set_visible(False)\n",
    "                    axarr[jj,ii].tick_params(labelsize='xx-small')\n",
    "                    \n",
    "                if jj==1:\n",
    "                    axarr[jj,ii].get_xaxis().set_visible(False)\n",
    "                    #axarr[jj,ii].tick_params(labelsize='xx-small')\n",
    "\n",
    "                # show custom tics on bottom row: lon=slice(-113,-80)\n",
    "                if jj==2:\n",
    "                    axarr[jj,ii].get_xaxis().set_visible(True)\n",
    "                    axarr[jj,ii].tick_params(labelsize='xx-small')\n",
    "                    \n",
    "                    # We need to draw the canvas, otherwise the labels won't be positioned and \n",
    "                    # won't have values yet.\n",
    "                    fig.canvas.draw()\n",
    "                    \n",
    "                    labels = [item.get_text() for item in axarr[jj,ii].get_xticklabels()]\n",
    "                    #labels[1] = '-113'\n",
    "                    #labels[2] = '-103'\n",
    "                    #labels[3] = '-93'\n",
    "                    ##labels[4] = '-83'\n",
    "                    axarr[jj,ii].set_xticklabels(labels)\n",
    "\n",
    "\n",
    "\n",
    "                \n",
    "                # colorbar only on 3rd postage stamp\n",
    "                if jj==2:\n",
    "                    # use scientific notation on 3rd column colorbar only\n",
    "                    if ii == 2:     \n",
    "                        def fmt(x, pos):\n",
    "                            a, b = '{:.1e}'.format(x).split('e')\n",
    "                            b = int(b)\n",
    "                            return r'${}e{}$'.format(a, b)\n",
    "                        cbar = fig.colorbar(plot, ax=axarr[jj,ii], orientation=\"horizontal\", fraction=0.0385, pad=0.2, format=ticker.FuncFormatter(fmt))\n",
    "                        #cbar = fig.colorbar(plot, ax=axarr[jj,ii], orientation=\"horizontal\", fraction=0.0385, pad=0.2, format='%.0e') #format=ticker.FuncFormatter(fmt))\n",
    "                        #cbar.set_ticks([0.2, 0.4, 0.6, 0.8])\n",
    "                        #cbar.set_ticklabels([\"A\", \"B\", \"C\", \"D\"])\n",
    "                        tick_locator = ticker.MaxNLocator(nbins=4)\n",
    "                        cbar.locator = tick_locator\n",
    "                        cbar.update_ticks()\n",
    "                    else:\n",
    "                        cbar = fig.colorbar(plot, ax=axarr[jj,ii], orientation=\"horizontal\", fraction=0.0385, pad=0.2, format=None)                    \n",
    "\n",
    "                    cbar.set_label(units[ii], size='xx-small')\n",
    "                    cbar.ax.tick_params(labelsize='xx-small')\n",
    "                    \n",
    "            # row titles\n",
    "            if jj==0:\n",
    "                #text = axarr[jj,0].text(-.1,0.5,'dry:'+str(counts[0]), size=12,\n",
    "                #verticalalignment='center_baseline', rotation=90)\n",
    "                plt.figtext(0.09, 0.75, 'Dry:'+str(int(counts1[jj]*100))+'/'+str(int(counts2[jj]*100))+'%', fontsize=11, rotation=90)\n",
    "                \n",
    "            # row titles\n",
    "            if jj==1:\n",
    "                #text = axarr[jj,7].text(1.0,0.6,'moist:'+str(counts[1]), size=12,\n",
    "                #verticalalignment='center_baseline', rotation=270)\n",
    "                plt.figtext(0.09, 0.5, 'Moist:'+str(int(counts1[jj]*100))+'/'+str(int(counts2[jj]*100))+'%', fontsize=11, rotation=90)\n",
    "\n",
    "            # row titles\n",
    "            if jj==2:\n",
    "                #text = axarr[jj,7].text(1.0,1.6,'wet:'+str(counts[2]), size=12,\n",
    "                #verticalalignment='center_baseline', rotation=90)\n",
    "                plt.figtext(0.092, 0.25, 'Wet:'+str(int(counts1[jj]*100))+'/'+str(int(counts2[jj]*100))+'%', fontsize=11, rotation=90)\n",
    "\n",
    "\n",
    "        \n",
    "\n",
    "        # sup title\n",
    "        sigfilename = basename(sigfn1)+'/'+basename(sigfn2)\n",
    "        #print (\"days:\", count, \", model:\", sigfilename)\n",
    "        rowtitle = ' '.join(sigfilename.split('.')[0:4]) # + ' Count: '+str(counts)\n",
    "        fig.suptitle(rowtitle.upper(), y=1.05, fontsize=14)\n",
    "        \n",
    "        #plt.subplots_adjust(left=0.1, right=0.9, bottom=0.1, top=0.9, wspace=0, hspace=0)\n",
    "        #plt.subplots_adjust(wspace=0, hspace=0)\n",
    "        #plt.subplots_adjust(wspace=0.0, hspace=0, right=0.7)\n",
    "\n",
    "        plt.show()\n",
    "        \n"
   ]
  },
  {
   "cell_type": "markdown",
   "id": "53307e91",
   "metadata": {},
   "source": [
    "# Run over all models"
   ]
  },
  {
   "cell_type": "code",
   "execution_count": 13,
   "id": "c28f1b0f",
   "metadata": {
    "scrolled": false
   },
   "outputs": [],
   "source": [
    "sigfiles = mpi_sigfiles # see configuration cell at beginning of notebook"
   ]
  },
  {
   "cell_type": "code",
   "execution_count": 14,
   "id": "b8819ebe",
   "metadata": {},
   "outputs": [],
   "source": [
    "## find max/min for each variable accross ALL hist files\n",
    "\n",
    "# files to consider\n",
    "#sigfiles_hist = [model2absfilepath(ff, 'hist', 98, 36) for ff in ['obs','raw','RegCM4','WRF','MPAS','CNN','SDSM','KDDM','MBCn','LOCA']]\n",
    "sigfiles_hist = [model2absfilepath(ff, 'hist', 98, 36) for ff in ['raw','RegCM4','WRF','CNN','SDSM','KDDM','MBCn','LOCA']]\n",
    "sigfiles_rcp85 = [model2absfilepath(ff, 'rcp85', 98, 36) for ff in ['raw','RegCM4','WRF','CNN','SDSM','KDDM','MBCn','LOCA']]\n",
    "\n",
    "\n",
    "hist_counts = []\n",
    "rcp85_counts = []\n",
    "for ii in range(len(sigfiles_hist)):\n",
    "    sigfn1 = sigfiles_hist[ii]\n",
    "    sigfn2 = sigfiles_rcp85[ii]\n",
    "    \n",
    "    rainsignal1 = xr.open_dataset(sigfn1)['prec']\n",
    "    rainsignal2 = xr.open_dataset(sigfn2)['prec']\n",
    "\n",
    "    for mpr_min, mpr_max in [(0,0.254), (0.254, 3.0), (3.0, 9999.0), (0, 9999.0)]:\n",
    "        load_uatm_mpi_hist()\n",
    "        avginput1, count1, distribution1, indices1 = calc_uatm_average(mpr_min, mpr_max, rainsignal1, -9999, 9999) \n",
    "        hist_counts.append(count1)\n",
    "        \n",
    "        load_uatm_mpi_future()\n",
    "        avginput2, count2, distribution2, indices2 = calc_uatm_average(mpr_min, mpr_max, rainsignal2, -9999, 9999) \n",
    "        rcp85_counts.append(count2)\n",
    "    "
   ]
  },
  {
   "cell_type": "code",
   "execution_count": 19,
   "id": "0de82b92",
   "metadata": {},
   "outputs": [
    {
     "data": {
      "image/png": "[encoded data removed]",
      "text/plain": [
       "<Figure size 432x288 with 1 Axes>"
      ]
     },
     "metadata": {
      "needs_background": "light"
     },
     "output_type": "display_data"
    }
   ],
   "source": [
    "#plt.hist(hist_counts, density=True, bins=30)  # density=False would make counts\n",
    "plt.hist(hist_counts)  # density=False would make counts\n",
    "plt.hist(rcp85_counts)\n",
    "plt.ylabel('Probability')\n",
    "plt.xlabel('Data');"
   ]
  },
  {
   "cell_type": "code",
   "execution_count": 22,
   "id": "e3b7ee80",
   "metadata": {},
   "outputs": [
    {
     "data": {
      "text/plain": [
       "[342,\n",
       " 210,\n",
       " 254,\n",
       " 806,\n",
       " 485,\n",
       " 142,\n",
       " 179,\n",
       " 806,\n",
       " 305,\n",
       " 188,\n",
       " 313,\n",
       " 806,\n",
       " 436,\n",
       " 179,\n",
       " 190,\n",
       " 805,\n",
       " 523,\n",
       " 156,\n",
       " 251,\n",
       " 930,\n",
       " 425,\n",
       " 147,\n",
       " 234,\n",
       " 806,\n",
       " 446,\n",
       " 143,\n",
       " 217,\n",
       " 806,\n",
       " 358,\n",
       " 192,\n",
       " 256,\n",
       " 806]"
      ]
     },
     "execution_count": 22,
     "metadata": {},
     "output_type": "execute_result"
    }
   ],
   "source": [
    "hist_counts"
   ]
  },
  {
   "cell_type": "code",
   "execution_count": 20,
   "id": "4a160ca3",
   "metadata": {},
   "outputs": [
    {
     "data": {
      "text/plain": [
       "(array([11.,  4.,  4.,  3.,  2.,  0.,  0.,  0.,  7.,  1.]),\n",
       " array([142. , 220.8, 299.6, 378.4, 457.2, 536. , 614.8, 693.6, 772.4,\n",
       "        851.2, 930. ]),\n",
       " <BarContainer object of 10 artists>)"
      ]
     },
     "execution_count": 20,
     "metadata": {},
     "output_type": "execute_result"
    },
    {
     "data": {
      "image/png": "[encoded data removed]",
      "text/plain": [
       "<Figure size 432x288 with 1 Axes>"
      ]
     },
     "metadata": {
      "needs_background": "light"
     },
     "output_type": "display_data"
    }
   ],
   "source": [
    "plt.hist(hist_counts)  # density=False would make counts"
   ]
  },
  {
   "cell_type": "code",
   "execution_count": 21,
   "id": "a3ebe1ff",
   "metadata": {},
   "outputs": [
    {
     "data": {
      "text/plain": [
       "(array([9., 5., 3., 1., 5., 1., 0., 0., 7., 1.]),\n",
       " array([105. , 187.5, 270. , 352.5, 435. , 517.5, 600. , 682.5, 765. ,\n",
       "        847.5, 930. ]),\n",
       " <BarContainer object of 10 artists>)"
      ]
     },
     "execution_count": 21,
     "metadata": {},
     "output_type": "execute_result"
    },
    {
     "data": {
      "image/png": "[encoded data removed]",
      "text/plain": [
       "<Figure size 432x288 with 1 Axes>"
      ]
     },
     "metadata": {
      "needs_background": "light"
     },
     "output_type": "display_data"
    }
   ],
   "source": [
    "plt.hist(rcp85_counts)\n"
   ]
  },
  {
   "cell_type": "code",
   "execution_count": 27,
   "id": "611750be",
   "metadata": {},
   "outputs": [
    {
     "data": {
      "image/png": "[encoded data removed]",
      "text/plain": [
       "<Figure size 432x288 with 1 Axes>"
      ]
     },
     "metadata": {
      "needs_background": "light"
     },
     "output_type": "display_data"
    }
   ],
   "source": [
    "plt.scatter(range(len(hist_counts)),hist_counts)\n",
    "plt.scatter(range(len(rcp85_counts)),rcp85_counts)\n",
    "plt.ylabel('Model')\n",
    "plt.xlabel('raincount');"
   ]
  },
  {
   "cell_type": "code",
   "execution_count": 39,
   "id": "221d8d66",
   "metadata": {},
   "outputs": [
    {
     "data": {
      "text/plain": [
       "3"
      ]
     },
     "execution_count": 39,
     "metadata": {},
     "output_type": "execute_result"
    }
   ],
   "source": [
    "3"
   ]
  }
 ],
 "metadata": {
  "kernelspec": {
   "display_name": "Python 3 (ipykernel)",
   "language": "python",
   "name": "python3"
  },
  "language_info": {
   "codemirror_mode": {
    "name": "ipython",
    "version": 3
   },
   "file_extension": ".py",
   "mimetype": "text/x-python",
   "name": "python",
   "nbconvert_exporter": "python",
   "pygments_lexer": "ipython3",
   "version": "3.7.11"
  }
 },
 "nbformat": 4,
 "nbformat_minor": 5
}
